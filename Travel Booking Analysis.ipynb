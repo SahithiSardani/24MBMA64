{
 "cells": [
  {
   "cell_type": "code",
   "execution_count": 0,
   "metadata": {
    "application/vnd.databricks.v1+cell": {
     "cellMetadata": {
      "byteLimit": 2048000,
      "rowLimit": 10000
     },
     "inputWidgets": {},
     "nuid": "5e8d46b6-c018-4588-a5ce-9fbfd4c5f8b5",
     "showTitle": false,
     "tableResultSettingsMap": {},
     "title": ""
    }
   },
   "outputs": [
    {
     "output_type": "display_data",
     "data": {
      "text/html": [
       "<style scoped>\n",
       "  .table-result-container {\n",
       "    max-height: 300px;\n",
       "    overflow: auto;\n",
       "  }\n",
       "  table, th, td {\n",
       "    border: 1px solid black;\n",
       "    border-collapse: collapse;\n",
       "  }\n",
       "  th, td {\n",
       "    padding: 5px;\n",
       "  }\n",
       "  th {\n",
       "    text-align: left;\n",
       "  }\n",
       "</style><div class='table-result-container'><table class='table-result'><thead style='background-color: white'><tr><th>booking_id</th><th>customer_id</th><th>hotel_id</th><th>location</th><th>hotel_name</th><th>booking_date</th><th>stay_duration</th><th>amount_spent</th><th>status</th><th>rating</th></tr></thead><tbody><tr><td>BOOK0001</td><td>CUST021</td><td>HOTEL02</td><td>Hyderabad</td><td>Hotel_2</td><td>2023-05-21</td><td>2</td><td>7656</td><td>Booked</td><td>1.0</td></tr><tr><td>BOOK0002</td><td>CUST022</td><td>HOTEL09</td><td>Hyderabad</td><td>Hotel_9</td><td>2023-10-30</td><td>4</td><td>9040</td><td>Booked</td><td>1.0</td></tr><tr><td>BOOK0003</td><td>CUST007</td><td>HOTEL04</td><td>Delhi</td><td>Hotel_4</td><td>2023-11-05</td><td>1</td><td>6597</td><td>Booked</td><td>5.0</td></tr><tr><td>BOOK0004</td><td>CUST014</td><td>HOTEL04</td><td>Mumbai</td><td>Hotel_4</td><td>2023-10-29</td><td>3</td><td>6159</td><td>Booked</td><td>4.0</td></tr><tr><td>BOOK0005</td><td>CUST011</td><td>HOTEL05</td><td>Bangalore</td><td>Hotel_5</td><td>2023-04-21</td><td>7</td><td>33299</td><td>Booked</td><td>1.0</td></tr><tr><td>BOOK0006</td><td>CUST013</td><td>HOTEL02</td><td>Chennai</td><td>Hotel_2</td><td>2023-06-26</td><td>5</td><td>20830</td><td>Booked</td><td>4.0</td></tr><tr><td>BOOK0007</td><td>CUST018</td><td>HOTEL02</td><td>Mumbai</td><td>Hotel_2</td><td>2023-02-10</td><td>5</td><td>22005</td><td>Cancelled</td><td>null</td></tr><tr><td>BOOK0008</td><td>CUST019</td><td>HOTEL04</td><td>Hyderabad</td><td>Hotel_4</td><td>2023-01-24</td><td>6</td><td>23196</td><td>Cancelled</td><td>null</td></tr><tr><td>BOOK0009</td><td>CUST003</td><td>HOTEL04</td><td>Hyderabad</td><td>Hotel_4</td><td>2023-07-14</td><td>3</td><td>17142</td><td>Cancelled</td><td>null</td></tr><tr><td>BOOK0010</td><td>CUST006</td><td>HOTEL06</td><td>Chennai</td><td>Hotel_6</td><td>2023-04-18</td><td>6</td><td>25122</td><td>Booked</td><td>5.0</td></tr><tr><td>BOOK0011</td><td>CUST021</td><td>HOTEL03</td><td>Delhi</td><td>Hotel_3</td><td>2023-05-06</td><td>2</td><td>11572</td><td>Cancelled</td><td>null</td></tr><tr><td>BOOK0012</td><td>CUST009</td><td>HOTEL09</td><td>Bangalore</td><td>Hotel_9</td><td>2023-12-17</td><td>3</td><td>7374</td><td>Booked</td><td>1.0</td></tr><tr><td>BOOK0013</td><td>CUST026</td><td>HOTEL06</td><td>Mumbai</td><td>Hotel_6</td><td>2023-05-18</td><td>1</td><td>3728</td><td>Cancelled</td><td>null</td></tr><tr><td>BOOK0014</td><td>CUST007</td><td>HOTEL08</td><td>Mumbai</td><td>Hotel_8</td><td>2023-11-26</td><td>4</td><td>12680</td><td>Cancelled</td><td>null</td></tr><tr><td>BOOK0015</td><td>CUST005</td><td>HOTEL04</td><td>Delhi</td><td>Hotel_4</td><td>2023-10-03</td><td>3</td><td>20364</td><td>Cancelled</td><td>null</td></tr><tr><td>BOOK0016</td><td>CUST029</td><td>HOTEL10</td><td>Mumbai</td><td>Hotel_10</td><td>2023-07-05</td><td>2</td><td>6266</td><td>Cancelled</td><td>null</td></tr><tr><td>BOOK0017</td><td>CUST003</td><td>HOTEL01</td><td>Hyderabad</td><td>Hotel_1</td><td>2023-03-20</td><td>6</td><td>19860</td><td>Cancelled</td><td>null</td></tr><tr><td>BOOK0018</td><td>CUST020</td><td>HOTEL02</td><td>Mumbai</td><td>Hotel_2</td><td>2023-07-15</td><td>5</td><td>29170</td><td>Cancelled</td><td>null</td></tr><tr><td>BOOK0019</td><td>CUST018</td><td>HOTEL01</td><td>Hyderabad</td><td>Hotel_1</td><td>2023-12-16</td><td>5</td><td>20925</td><td>Cancelled</td><td>null</td></tr><tr><td>BOOK0020</td><td>CUST004</td><td>HOTEL05</td><td>Mumbai</td><td>Hotel_5</td><td>2023-03-22</td><td>4</td><td>8104</td><td>Cancelled</td><td>null</td></tr><tr><td>BOOK0021</td><td>CUST017</td><td>HOTEL03</td><td>Delhi</td><td>Hotel_3</td><td>2023-02-24</td><td>7</td><td>49854</td><td>Cancelled</td><td>null</td></tr><tr><td>BOOK0022</td><td>CUST027</td><td>HOTEL09</td><td>Delhi</td><td>Hotel_9</td><td>2023-04-12</td><td>2</td><td>10126</td><td>Booked</td><td>5.0</td></tr><tr><td>BOOK0023</td><td>CUST025</td><td>HOTEL09</td><td>Hyderabad</td><td>Hotel_9</td><td>2023-11-03</td><td>3</td><td>18006</td><td>Booked</td><td>1.0</td></tr><tr><td>BOOK0024</td><td>CUST030</td><td>HOTEL06</td><td>Chennai</td><td>Hotel_6</td><td>2023-05-03</td><td>1</td><td>3973</td><td>Booked</td><td>1.0</td></tr><tr><td>BOOK0025</td><td>CUST024</td><td>HOTEL08</td><td>Hyderabad</td><td>Hotel_8</td><td>2023-09-30</td><td>7</td><td>21210</td><td>Booked</td><td>4.0</td></tr><tr><td>BOOK0026</td><td>CUST018</td><td>HOTEL03</td><td>Chennai</td><td>Hotel_3</td><td>2023-09-28</td><td>7</td><td>48783</td><td>Cancelled</td><td>null</td></tr><tr><td>BOOK0027</td><td>CUST007</td><td>HOTEL09</td><td>Bangalore</td><td>Hotel_9</td><td>2024-01-01</td><td>3</td><td>15804</td><td>Cancelled</td><td>null</td></tr><tr><td>BOOK0028</td><td>CUST015</td><td>HOTEL09</td><td>Mumbai</td><td>Hotel_9</td><td>2023-03-03</td><td>2</td><td>7680</td><td>Booked</td><td>3.0</td></tr><tr><td>BOOK0029</td><td>CUST001</td><td>HOTEL10</td><td>Delhi</td><td>Hotel_10</td><td>2023-04-28</td><td>5</td><td>19020</td><td>Booked</td><td>1.0</td></tr><tr><td>BOOK0030</td><td>CUST023</td><td>HOTEL01</td><td>Bangalore</td><td>Hotel_1</td><td>2023-02-04</td><td>1</td><td>4706</td><td>Booked</td><td>5.0</td></tr><tr><td>BOOK0031</td><td>CUST008</td><td>HOTEL05</td><td>Mumbai</td><td>Hotel_5</td><td>2023-04-20</td><td>5</td><td>15415</td><td>Cancelled</td><td>null</td></tr><tr><td>BOOK0032</td><td>CUST008</td><td>HOTEL08</td><td>Mumbai</td><td>Hotel_8</td><td>2023-04-08</td><td>1</td><td>2794</td><td>Cancelled</td><td>null</td></tr><tr><td>BOOK0033</td><td>CUST012</td><td>HOTEL07</td><td>Mumbai</td><td>Hotel_7</td><td>2023-08-28</td><td>7</td><td>55804</td><td>Booked</td><td>1.0</td></tr><tr><td>BOOK0034</td><td>CUST002</td><td>HOTEL07</td><td>Chennai</td><td>Hotel_7</td><td>2023-02-25</td><td>2</td><td>7138</td><td>Booked</td><td>5.0</td></tr><tr><td>BOOK0035</td><td>CUST015</td><td>HOTEL03</td><td>Mumbai</td><td>Hotel_3</td><td>2023-04-04</td><td>3</td><td>17367</td><td>Booked</td><td>1.0</td></tr><tr><td>BOOK0036</td><td>CUST015</td><td>HOTEL09</td><td>Hyderabad</td><td>Hotel_9</td><td>2023-01-26</td><td>6</td><td>38568</td><td>Booked</td><td>1.0</td></tr><tr><td>BOOK0037</td><td>CUST030</td><td>HOTEL04</td><td>Bangalore</td><td>Hotel_4</td><td>2023-07-28</td><td>4</td><td>23772</td><td>Booked</td><td>4.0</td></tr><tr><td>BOOK0038</td><td>CUST029</td><td>HOTEL01</td><td>Bangalore</td><td>Hotel_1</td><td>2023-07-14</td><td>1</td><td>5198</td><td>Cancelled</td><td>null</td></tr><tr><td>BOOK0039</td><td>CUST030</td><td>HOTEL08</td><td>Chennai</td><td>Hotel_8</td><td>2023-08-05</td><td>6</td><td>47904</td><td>Cancelled</td><td>null</td></tr><tr><td>BOOK0040</td><td>CUST005</td><td>HOTEL04</td><td>Chennai</td><td>Hotel_4</td><td>2023-04-22</td><td>1</td><td>6744</td><td>Booked</td><td>3.0</td></tr><tr><td>BOOK0041</td><td>CUST002</td><td>HOTEL01</td><td>Delhi</td><td>Hotel_1</td><td>2023-09-02</td><td>5</td><td>31750</td><td>Booked</td><td>1.0</td></tr><tr><td>BOOK0042</td><td>CUST017</td><td>HOTEL02</td><td>Bangalore</td><td>Hotel_2</td><td>2023-02-05</td><td>5</td><td>12780</td><td>Booked</td><td>4.0</td></tr><tr><td>BOOK0043</td><td>CUST004</td><td>HOTEL10</td><td>Bangalore</td><td>Hotel_10</td><td>2023-10-24</td><td>5</td><td>11625</td><td>Booked</td><td>4.0</td></tr><tr><td>BOOK0044</td><td>CUST022</td><td>HOTEL10</td><td>Delhi</td><td>Hotel_10</td><td>2023-09-25</td><td>3</td><td>12408</td><td>Booked</td><td>3.0</td></tr><tr><td>BOOK0045</td><td>CUST008</td><td>HOTEL05</td><td>Mumbai</td><td>Hotel_5</td><td>2023-03-09</td><td>6</td><td>43722</td><td>Cancelled</td><td>null</td></tr><tr><td>BOOK0046</td><td>CUST015</td><td>HOTEL06</td><td>Hyderabad</td><td>Hotel_6</td><td>2023-01-05</td><td>4</td><td>28352</td><td>Booked</td><td>1.0</td></tr><tr><td>BOOK0047</td><td>CUST018</td><td>HOTEL04</td><td>Delhi</td><td>Hotel_4</td><td>2023-05-16</td><td>2</td><td>9718</td><td>Booked</td><td>2.0</td></tr><tr><td>BOOK0048</td><td>CUST012</td><td>HOTEL05</td><td>Bangalore</td><td>Hotel_5</td><td>2023-08-13</td><td>7</td><td>45150</td><td>Cancelled</td><td>null</td></tr><tr><td>BOOK0049</td><td>CUST020</td><td>HOTEL09</td><td>Hyderabad</td><td>Hotel_9</td><td>2023-12-08</td><td>7</td><td>45801</td><td>Cancelled</td><td>null</td></tr><tr><td>BOOK0050</td><td>CUST030</td><td>HOTEL02</td><td>Bangalore</td><td>Hotel_2</td><td>2023-05-16</td><td>1</td><td>2876</td><td>Booked</td><td>3.0</td></tr><tr><td>BOOK0051</td><td>CUST010</td><td>HOTEL10</td><td>Bangalore</td><td>Hotel_10</td><td>2023-06-25</td><td>2</td><td>15262</td><td>Cancelled</td><td>null</td></tr><tr><td>BOOK0052</td><td>CUST017</td><td>HOTEL08</td><td>Chennai</td><td>Hotel_8</td><td>2023-01-27</td><td>1</td><td>7196</td><td>Cancelled</td><td>null</td></tr><tr><td>BOOK0053</td><td>CUST027</td><td>HOTEL05</td><td>Hyderabad</td><td>Hotel_5</td><td>2023-01-02</td><td>3</td><td>9213</td><td>Cancelled</td><td>null</td></tr><tr><td>BOOK0054</td><td>CUST006</td><td>HOTEL08</td><td>Delhi</td><td>Hotel_8</td><td>2023-12-28</td><td>4</td><td>26376</td><td>Booked</td><td>1.0</td></tr><tr><td>BOOK0055</td><td>CUST003</td><td>HOTEL03</td><td>Delhi</td><td>Hotel_3</td><td>2023-01-19</td><td>7</td><td>35168</td><td>Booked</td><td>4.0</td></tr><tr><td>BOOK0056</td><td>CUST005</td><td>HOTEL01</td><td>Chennai</td><td>Hotel_1</td><td>2023-07-06</td><td>7</td><td>16282</td><td>Cancelled</td><td>null</td></tr><tr><td>BOOK0057</td><td>CUST007</td><td>HOTEL04</td><td>Hyderabad</td><td>Hotel_4</td><td>2023-07-01</td><td>7</td><td>46102</td><td>Cancelled</td><td>null</td></tr><tr><td>BOOK0058</td><td>CUST020</td><td>HOTEL03</td><td>Bangalore</td><td>Hotel_3</td><td>2023-03-25</td><td>7</td><td>24150</td><td>Cancelled</td><td>null</td></tr><tr><td>BOOK0059</td><td>CUST001</td><td>HOTEL03</td><td>Chennai</td><td>Hotel_3</td><td>2023-07-30</td><td>7</td><td>52409</td><td>Booked</td><td>3.0</td></tr><tr><td>BOOK0060</td><td>CUST006</td><td>HOTEL02</td><td>Mumbai</td><td>Hotel_2</td><td>2023-01-20</td><td>7</td><td>40985</td><td>Booked</td><td>2.0</td></tr><tr><td>BOOK0061</td><td>CUST027</td><td>HOTEL08</td><td>Chennai</td><td>Hotel_8</td><td>2023-06-06</td><td>7</td><td>27048</td><td>Booked</td><td>1.0</td></tr><tr><td>BOOK0062</td><td>CUST022</td><td>HOTEL04</td><td>Mumbai</td><td>Hotel_4</td><td>2023-06-18</td><td>3</td><td>7704</td><td>Cancelled</td><td>null</td></tr><tr><td>BOOK0063</td><td>CUST012</td><td>HOTEL09</td><td>Mumbai</td><td>Hotel_9</td><td>2023-12-14</td><td>7</td><td>44744</td><td>Cancelled</td><td>null</td></tr><tr><td>BOOK0064</td><td>CUST001</td><td>HOTEL02</td><td>Chennai</td><td>Hotel_2</td><td>2023-04-02</td><td>5</td><td>20870</td><td>Booked</td><td>1.0</td></tr><tr><td>BOOK0065</td><td>CUST020</td><td>HOTEL07</td><td>Chennai</td><td>Hotel_7</td><td>2023-06-10</td><td>4</td><td>27864</td><td>Booked</td><td>4.0</td></tr><tr><td>BOOK0066</td><td>CUST029</td><td>HOTEL10</td><td>Bangalore</td><td>Hotel_10</td><td>2023-05-11</td><td>1</td><td>7806</td><td>Cancelled</td><td>null</td></tr><tr><td>BOOK0067</td><td>CUST001</td><td>HOTEL09</td><td>Delhi</td><td>Hotel_9</td><td>2023-12-18</td><td>6</td><td>44958</td><td>Booked</td><td>3.0</td></tr><tr><td>BOOK0068</td><td>CUST014</td><td>HOTEL02</td><td>Chennai</td><td>Hotel_2</td><td>2023-11-16</td><td>3</td><td>22302</td><td>Booked</td><td>3.0</td></tr><tr><td>BOOK0069</td><td>CUST017</td><td>HOTEL05</td><td>Mumbai</td><td>Hotel_5</td><td>2023-06-17</td><td>4</td><td>30844</td><td>Cancelled</td><td>null</td></tr><tr><td>BOOK0070</td><td>CUST018</td><td>HOTEL03</td><td>Bangalore</td><td>Hotel_3</td><td>2023-08-04</td><td>6</td><td>30630</td><td>Booked</td><td>5.0</td></tr><tr><td>BOOK0071</td><td>CUST019</td><td>HOTEL05</td><td>Mumbai</td><td>Hotel_5</td><td>2023-10-08</td><td>7</td><td>14021</td><td>Cancelled</td><td>null</td></tr><tr><td>BOOK0072</td><td>CUST010</td><td>HOTEL04</td><td>Mumbai</td><td>Hotel_4</td><td>2023-10-24</td><td>5</td><td>36815</td><td>Cancelled</td><td>null</td></tr><tr><td>BOOK0073</td><td>CUST015</td><td>HOTEL08</td><td>Mumbai</td><td>Hotel_8</td><td>2023-12-12</td><td>2</td><td>12374</td><td>Cancelled</td><td>null</td></tr><tr><td>BOOK0074</td><td>CUST026</td><td>HOTEL03</td><td>Hyderabad</td><td>Hotel_3</td><td>2023-05-26</td><td>5</td><td>37190</td><td>Cancelled</td><td>null</td></tr><tr><td>BOOK0075</td><td>CUST003</td><td>HOTEL04</td><td>Chennai</td><td>Hotel_4</td><td>2023-04-26</td><td>7</td><td>25417</td><td>Booked</td><td>1.0</td></tr><tr><td>BOOK0076</td><td>CUST002</td><td>HOTEL04</td><td>Mumbai</td><td>Hotel_4</td><td>2023-11-09</td><td>7</td><td>18172</td><td>Cancelled</td><td>null</td></tr><tr><td>BOOK0077</td><td>CUST014</td><td>HOTEL10</td><td>Bangalore</td><td>Hotel_10</td><td>2023-12-23</td><td>4</td><td>24196</td><td>Cancelled</td><td>null</td></tr><tr><td>BOOK0078</td><td>CUST008</td><td>HOTEL03</td><td>Hyderabad</td><td>Hotel_3</td><td>2023-02-24</td><td>7</td><td>38374</td><td>Booked</td><td>2.0</td></tr><tr><td>BOOK0079</td><td>CUST026</td><td>HOTEL09</td><td>Mumbai</td><td>Hotel_9</td><td>2023-01-26</td><td>5</td><td>20205</td><td>Booked</td><td>4.0</td></tr><tr><td>BOOK0080</td><td>CUST005</td><td>HOTEL08</td><td>Delhi</td><td>Hotel_8</td><td>2023-10-14</td><td>5</td><td>22995</td><td>Cancelled</td><td>null</td></tr></tbody></table></div>"
      ]
     },
     "metadata": {
      "application/vnd.databricks.v1+output": {
       "addedWidgets": {},
       "aggData": [],
       "aggError": "",
       "aggOverflow": false,
       "aggSchema": [],
       "aggSeriesLimitReached": false,
       "aggType": "",
       "arguments": {},
       "columnCustomDisplayInfos": {},
       "data": [
        [
         "BOOK0001",
         "CUST021",
         "HOTEL02",
         "Hyderabad",
         "Hotel_2",
         "2023-05-21",
         2,
         7656,
         "Booked",
         1.0
        ],
        [
         "BOOK0002",
         "CUST022",
         "HOTEL09",
         "Hyderabad",
         "Hotel_9",
         "2023-10-30",
         4,
         9040,
         "Booked",
         1.0
        ],
        [
         "BOOK0003",
         "CUST007",
         "HOTEL04",
         "Delhi",
         "Hotel_4",
         "2023-11-05",
         1,
         6597,
         "Booked",
         5.0
        ],
        [
         "BOOK0004",
         "CUST014",
         "HOTEL04",
         "Mumbai",
         "Hotel_4",
         "2023-10-29",
         3,
         6159,
         "Booked",
         4.0
        ],
        [
         "BOOK0005",
         "CUST011",
         "HOTEL05",
         "Bangalore",
         "Hotel_5",
         "2023-04-21",
         7,
         33299,
         "Booked",
         1.0
        ],
        [
         "BOOK0006",
         "CUST013",
         "HOTEL02",
         "Chennai",
         "Hotel_2",
         "2023-06-26",
         5,
         20830,
         "Booked",
         4.0
        ],
        [
         "BOOK0007",
         "CUST018",
         "HOTEL02",
         "Mumbai",
         "Hotel_2",
         "2023-02-10",
         5,
         22005,
         "Cancelled",
         null
        ],
        [
         "BOOK0008",
         "CUST019",
         "HOTEL04",
         "Hyderabad",
         "Hotel_4",
         "2023-01-24",
         6,
         23196,
         "Cancelled",
         null
        ],
        [
         "BOOK0009",
         "CUST003",
         "HOTEL04",
         "Hyderabad",
         "Hotel_4",
         "2023-07-14",
         3,
         17142,
         "Cancelled",
         null
        ],
        [
         "BOOK0010",
         "CUST006",
         "HOTEL06",
         "Chennai",
         "Hotel_6",
         "2023-04-18",
         6,
         25122,
         "Booked",
         5.0
        ],
        [
         "BOOK0011",
         "CUST021",
         "HOTEL03",
         "Delhi",
         "Hotel_3",
         "2023-05-06",
         2,
         11572,
         "Cancelled",
         null
        ],
        [
         "BOOK0012",
         "CUST009",
         "HOTEL09",
         "Bangalore",
         "Hotel_9",
         "2023-12-17",
         3,
         7374,
         "Booked",
         1.0
        ],
        [
         "BOOK0013",
         "CUST026",
         "HOTEL06",
         "Mumbai",
         "Hotel_6",
         "2023-05-18",
         1,
         3728,
         "Cancelled",
         null
        ],
        [
         "BOOK0014",
         "CUST007",
         "HOTEL08",
         "Mumbai",
         "Hotel_8",
         "2023-11-26",
         4,
         12680,
         "Cancelled",
         null
        ],
        [
         "BOOK0015",
         "CUST005",
         "HOTEL04",
         "Delhi",
         "Hotel_4",
         "2023-10-03",
         3,
         20364,
         "Cancelled",
         null
        ],
        [
         "BOOK0016",
         "CUST029",
         "HOTEL10",
         "Mumbai",
         "Hotel_10",
         "2023-07-05",
         2,
         6266,
         "Cancelled",
         null
        ],
        [
         "BOOK0017",
         "CUST003",
         "HOTEL01",
         "Hyderabad",
         "Hotel_1",
         "2023-03-20",
         6,
         19860,
         "Cancelled",
         null
        ],
        [
         "BOOK0018",
         "CUST020",
         "HOTEL02",
         "Mumbai",
         "Hotel_2",
         "2023-07-15",
         5,
         29170,
         "Cancelled",
         null
        ],
        [
         "BOOK0019",
         "CUST018",
         "HOTEL01",
         "Hyderabad",
         "Hotel_1",
         "2023-12-16",
         5,
         20925,
         "Cancelled",
         null
        ],
        [
         "BOOK0020",
         "CUST004",
         "HOTEL05",
         "Mumbai",
         "Hotel_5",
         "2023-03-22",
         4,
         8104,
         "Cancelled",
         null
        ],
        [
         "BOOK0021",
         "CUST017",
         "HOTEL03",
         "Delhi",
         "Hotel_3",
         "2023-02-24",
         7,
         49854,
         "Cancelled",
         null
        ],
        [
         "BOOK0022",
         "CUST027",
         "HOTEL09",
         "Delhi",
         "Hotel_9",
         "2023-04-12",
         2,
         10126,
         "Booked",
         5.0
        ],
        [
         "BOOK0023",
         "CUST025",
         "HOTEL09",
         "Hyderabad",
         "Hotel_9",
         "2023-11-03",
         3,
         18006,
         "Booked",
         1.0
        ],
        [
         "BOOK0024",
         "CUST030",
         "HOTEL06",
         "Chennai",
         "Hotel_6",
         "2023-05-03",
         1,
         3973,
         "Booked",
         1.0
        ],
        [
         "BOOK0025",
         "CUST024",
         "HOTEL08",
         "Hyderabad",
         "Hotel_8",
         "2023-09-30",
         7,
         21210,
         "Booked",
         4.0
        ],
        [
         "BOOK0026",
         "CUST018",
         "HOTEL03",
         "Chennai",
         "Hotel_3",
         "2023-09-28",
         7,
         48783,
         "Cancelled",
         null
        ],
        [
         "BOOK0027",
         "CUST007",
         "HOTEL09",
         "Bangalore",
         "Hotel_9",
         "2024-01-01",
         3,
         15804,
         "Cancelled",
         null
        ],
        [
         "BOOK0028",
         "CUST015",
         "HOTEL09",
         "Mumbai",
         "Hotel_9",
         "2023-03-03",
         2,
         7680,
         "Booked",
         3.0
        ],
        [
         "BOOK0029",
         "CUST001",
         "HOTEL10",
         "Delhi",
         "Hotel_10",
         "2023-04-28",
         5,
         19020,
         "Booked",
         1.0
        ],
        [
         "BOOK0030",
         "CUST023",
         "HOTEL01",
         "Bangalore",
         "Hotel_1",
         "2023-02-04",
         1,
         4706,
         "Booked",
         5.0
        ],
        [
         "BOOK0031",
         "CUST008",
         "HOTEL05",
         "Mumbai",
         "Hotel_5",
         "2023-04-20",
         5,
         15415,
         "Cancelled",
         null
        ],
        [
         "BOOK0032",
         "CUST008",
         "HOTEL08",
         "Mumbai",
         "Hotel_8",
         "2023-04-08",
         1,
         2794,
         "Cancelled",
         null
        ],
        [
         "BOOK0033",
         "CUST012",
         "HOTEL07",
         "Mumbai",
         "Hotel_7",
         "2023-08-28",
         7,
         55804,
         "Booked",
         1.0
        ],
        [
         "BOOK0034",
         "CUST002",
         "HOTEL07",
         "Chennai",
         "Hotel_7",
         "2023-02-25",
         2,
         7138,
         "Booked",
         5.0
        ],
        [
         "BOOK0035",
         "CUST015",
         "HOTEL03",
         "Mumbai",
         "Hotel_3",
         "2023-04-04",
         3,
         17367,
         "Booked",
         1.0
        ],
        [
         "BOOK0036",
         "CUST015",
         "HOTEL09",
         "Hyderabad",
         "Hotel_9",
         "2023-01-26",
         6,
         38568,
         "Booked",
         1.0
        ],
        [
         "BOOK0037",
         "CUST030",
         "HOTEL04",
         "Bangalore",
         "Hotel_4",
         "2023-07-28",
         4,
         23772,
         "Booked",
         4.0
        ],
        [
         "BOOK0038",
         "CUST029",
         "HOTEL01",
         "Bangalore",
         "Hotel_1",
         "2023-07-14",
         1,
         5198,
         "Cancelled",
         null
        ],
        [
         "BOOK0039",
         "CUST030",
         "HOTEL08",
         "Chennai",
         "Hotel_8",
         "2023-08-05",
         6,
         47904,
         "Cancelled",
         null
        ],
        [
         "BOOK0040",
         "CUST005",
         "HOTEL04",
         "Chennai",
         "Hotel_4",
         "2023-04-22",
         1,
         6744,
         "Booked",
         3.0
        ],
        [
         "BOOK0041",
         "CUST002",
         "HOTEL01",
         "Delhi",
         "Hotel_1",
         "2023-09-02",
         5,
         31750,
         "Booked",
         1.0
        ],
        [
         "BOOK0042",
         "CUST017",
         "HOTEL02",
         "Bangalore",
         "Hotel_2",
         "2023-02-05",
         5,
         12780,
         "Booked",
         4.0
        ],
        [
         "BOOK0043",
         "CUST004",
         "HOTEL10",
         "Bangalore",
         "Hotel_10",
         "2023-10-24",
         5,
         11625,
         "Booked",
         4.0
        ],
        [
         "BOOK0044",
         "CUST022",
         "HOTEL10",
         "Delhi",
         "Hotel_10",
         "2023-09-25",
         3,
         12408,
         "Booked",
         3.0
        ],
        [
         "BOOK0045",
         "CUST008",
         "HOTEL05",
         "Mumbai",
         "Hotel_5",
         "2023-03-09",
         6,
         43722,
         "Cancelled",
         null
        ],
        [
         "BOOK0046",
         "CUST015",
         "HOTEL06",
         "Hyderabad",
         "Hotel_6",
         "2023-01-05",
         4,
         28352,
         "Booked",
         1.0
        ],
        [
         "BOOK0047",
         "CUST018",
         "HOTEL04",
         "Delhi",
         "Hotel_4",
         "2023-05-16",
         2,
         9718,
         "Booked",
         2.0
        ],
        [
         "BOOK0048",
         "CUST012",
         "HOTEL05",
         "Bangalore",
         "Hotel_5",
         "2023-08-13",
         7,
         45150,
         "Cancelled",
         null
        ],
        [
         "BOOK0049",
         "CUST020",
         "HOTEL09",
         "Hyderabad",
         "Hotel_9",
         "2023-12-08",
         7,
         45801,
         "Cancelled",
         null
        ],
        [
         "BOOK0050",
         "CUST030",
         "HOTEL02",
         "Bangalore",
         "Hotel_2",
         "2023-05-16",
         1,
         2876,
         "Booked",
         3.0
        ],
        [
         "BOOK0051",
         "CUST010",
         "HOTEL10",
         "Bangalore",
         "Hotel_10",
         "2023-06-25",
         2,
         15262,
         "Cancelled",
         null
        ],
        [
         "BOOK0052",
         "CUST017",
         "HOTEL08",
         "Chennai",
         "Hotel_8",
         "2023-01-27",
         1,
         7196,
         "Cancelled",
         null
        ],
        [
         "BOOK0053",
         "CUST027",
         "HOTEL05",
         "Hyderabad",
         "Hotel_5",
         "2023-01-02",
         3,
         9213,
         "Cancelled",
         null
        ],
        [
         "BOOK0054",
         "CUST006",
         "HOTEL08",
         "Delhi",
         "Hotel_8",
         "2023-12-28",
         4,
         26376,
         "Booked",
         1.0
        ],
        [
         "BOOK0055",
         "CUST003",
         "HOTEL03",
         "Delhi",
         "Hotel_3",
         "2023-01-19",
         7,
         35168,
         "Booked",
         4.0
        ],
        [
         "BOOK0056",
         "CUST005",
         "HOTEL01",
         "Chennai",
         "Hotel_1",
         "2023-07-06",
         7,
         16282,
         "Cancelled",
         null
        ],
        [
         "BOOK0057",
         "CUST007",
         "HOTEL04",
         "Hyderabad",
         "Hotel_4",
         "2023-07-01",
         7,
         46102,
         "Cancelled",
         null
        ],
        [
         "BOOK0058",
         "CUST020",
         "HOTEL03",
         "Bangalore",
         "Hotel_3",
         "2023-03-25",
         7,
         24150,
         "Cancelled",
         null
        ],
        [
         "BOOK0059",
         "CUST001",
         "HOTEL03",
         "Chennai",
         "Hotel_3",
         "2023-07-30",
         7,
         52409,
         "Booked",
         3.0
        ],
        [
         "BOOK0060",
         "CUST006",
         "HOTEL02",
         "Mumbai",
         "Hotel_2",
         "2023-01-20",
         7,
         40985,
         "Booked",
         2.0
        ],
        [
         "BOOK0061",
         "CUST027",
         "HOTEL08",
         "Chennai",
         "Hotel_8",
         "2023-06-06",
         7,
         27048,
         "Booked",
         1.0
        ],
        [
         "BOOK0062",
         "CUST022",
         "HOTEL04",
         "Mumbai",
         "Hotel_4",
         "2023-06-18",
         3,
         7704,
         "Cancelled",
         null
        ],
        [
         "BOOK0063",
         "CUST012",
         "HOTEL09",
         "Mumbai",
         "Hotel_9",
         "2023-12-14",
         7,
         44744,
         "Cancelled",
         null
        ],
        [
         "BOOK0064",
         "CUST001",
         "HOTEL02",
         "Chennai",
         "Hotel_2",
         "2023-04-02",
         5,
         20870,
         "Booked",
         1.0
        ],
        [
         "BOOK0065",
         "CUST020",
         "HOTEL07",
         "Chennai",
         "Hotel_7",
         "2023-06-10",
         4,
         27864,
         "Booked",
         4.0
        ],
        [
         "BOOK0066",
         "CUST029",
         "HOTEL10",
         "Bangalore",
         "Hotel_10",
         "2023-05-11",
         1,
         7806,
         "Cancelled",
         null
        ],
        [
         "BOOK0067",
         "CUST001",
         "HOTEL09",
         "Delhi",
         "Hotel_9",
         "2023-12-18",
         6,
         44958,
         "Booked",
         3.0
        ],
        [
         "BOOK0068",
         "CUST014",
         "HOTEL02",
         "Chennai",
         "Hotel_2",
         "2023-11-16",
         3,
         22302,
         "Booked",
         3.0
        ],
        [
         "BOOK0069",
         "CUST017",
         "HOTEL05",
         "Mumbai",
         "Hotel_5",
         "2023-06-17",
         4,
         30844,
         "Cancelled",
         null
        ],
        [
         "BOOK0070",
         "CUST018",
         "HOTEL03",
         "Bangalore",
         "Hotel_3",
         "2023-08-04",
         6,
         30630,
         "Booked",
         5.0
        ],
        [
         "BOOK0071",
         "CUST019",
         "HOTEL05",
         "Mumbai",
         "Hotel_5",
         "2023-10-08",
         7,
         14021,
         "Cancelled",
         null
        ],
        [
         "BOOK0072",
         "CUST010",
         "HOTEL04",
         "Mumbai",
         "Hotel_4",
         "2023-10-24",
         5,
         36815,
         "Cancelled",
         null
        ],
        [
         "BOOK0073",
         "CUST015",
         "HOTEL08",
         "Mumbai",
         "Hotel_8",
         "2023-12-12",
         2,
         12374,
         "Cancelled",
         null
        ],
        [
         "BOOK0074",
         "CUST026",
         "HOTEL03",
         "Hyderabad",
         "Hotel_3",
         "2023-05-26",
         5,
         37190,
         "Cancelled",
         null
        ],
        [
         "BOOK0075",
         "CUST003",
         "HOTEL04",
         "Chennai",
         "Hotel_4",
         "2023-04-26",
         7,
         25417,
         "Booked",
         1.0
        ],
        [
         "BOOK0076",
         "CUST002",
         "HOTEL04",
         "Mumbai",
         "Hotel_4",
         "2023-11-09",
         7,
         18172,
         "Cancelled",
         null
        ],
        [
         "BOOK0077",
         "CUST014",
         "HOTEL10",
         "Bangalore",
         "Hotel_10",
         "2023-12-23",
         4,
         24196,
         "Cancelled",
         null
        ],
        [
         "BOOK0078",
         "CUST008",
         "HOTEL03",
         "Hyderabad",
         "Hotel_3",
         "2023-02-24",
         7,
         38374,
         "Booked",
         2.0
        ],
        [
         "BOOK0079",
         "CUST026",
         "HOTEL09",
         "Mumbai",
         "Hotel_9",
         "2023-01-26",
         5,
         20205,
         "Booked",
         4.0
        ],
        [
         "BOOK0080",
         "CUST005",
         "HOTEL08",
         "Delhi",
         "Hotel_8",
         "2023-10-14",
         5,
         22995,
         "Cancelled",
         null
        ]
       ],
       "datasetInfos": [],
       "dbfsResultPath": null,
       "isJsonSchema": true,
       "metadata": {},
       "overflow": false,
       "plotOptions": {
        "customPlotOptions": {},
        "displayType": "table",
        "pivotAggregation": null,
        "pivotColumns": null,
        "xColumns": null,
        "yColumns": null
       },
       "removedWidgets": [],
       "schema": [
        {
         "metadata": "{}",
         "name": "booking_id",
         "type": "\"string\""
        },
        {
         "metadata": "{}",
         "name": "customer_id",
         "type": "\"string\""
        },
        {
         "metadata": "{}",
         "name": "hotel_id",
         "type": "\"string\""
        },
        {
         "metadata": "{}",
         "name": "location",
         "type": "\"string\""
        },
        {
         "metadata": "{}",
         "name": "hotel_name",
         "type": "\"string\""
        },
        {
         "metadata": "{\"__detected_date_formats\": \"yyyy-M-d\"}",
         "name": "booking_date",
         "type": "\"date\""
        },
        {
         "metadata": "{}",
         "name": "stay_duration",
         "type": "\"long\""
        },
        {
         "metadata": "{}",
         "name": "amount_spent",
         "type": "\"long\""
        },
        {
         "metadata": "{}",
         "name": "status",
         "type": "\"string\""
        },
        {
         "metadata": "{}",
         "name": "rating",
         "type": "\"double\""
        }
       ],
       "type": "table"
      }
     },
     "output_type": "display_data"
    }
   ],
   "source": [
    "# Load the data from the table you created in the Catalog\n",
    "# The table's full name is in the format: catalog_name.schema_name.table_name\n",
    "df = spark.table(\"workspace.default.travel_tourism_bookings\")\n",
    "\n",
    "\n",
    "display(df)"
   ]
  },
  {
   "cell_type": "code",
   "execution_count": 0,
   "metadata": {
    "application/vnd.databricks.v1+cell": {
     "cellMetadata": {
      "byteLimit": 2048000,
      "rowLimit": 10000
     },
     "inputWidgets": {},
     "nuid": "31b22ebf-2515-4de9-8b4d-83aeae79b6f3",
     "showTitle": false,
     "tableResultSettingsMap": {},
     "title": ""
    }
   },
   "outputs": [
    {
     "output_type": "display_data",
     "data": {
      "text/html": [
       "<style scoped>\n",
       "  .table-result-container {\n",
       "    max-height: 300px;\n",
       "    overflow: auto;\n",
       "  }\n",
       "  table, th, td {\n",
       "    border: 1px solid black;\n",
       "    border-collapse: collapse;\n",
       "  }\n",
       "  th, td {\n",
       "    padding: 5px;\n",
       "  }\n",
       "  th {\n",
       "    text-align: left;\n",
       "  }\n",
       "</style><div class='table-result-container'><table class='table-result'><thead style='background-color: white'><tr><th>hotel_name</th><th>total_revenue</th></tr></thead><tbody><tr><td>Hotel_3</td><td>173948</td></tr><tr><td>Hotel_9</td><td>155957</td></tr><tr><td>Hotel_2</td><td>128299</td></tr><tr><td>Hotel_7</td><td>90806</td></tr><tr><td>Hotel_4</td><td>78407</td></tr><tr><td>Hotel_8</td><td>74634</td></tr><tr><td>Hotel_6</td><td>57447</td></tr><tr><td>Hotel_10</td><td>43053</td></tr><tr><td>Hotel_1</td><td>36456</td></tr><tr><td>Hotel_5</td><td>33299</td></tr></tbody></table></div>"
      ]
     },
     "metadata": {
      "application/vnd.databricks.v1+output": {
       "addedWidgets": {},
       "aggData": [],
       "aggError": "",
       "aggOverflow": false,
       "aggSchema": [],
       "aggSeriesLimitReached": false,
       "aggType": "",
       "arguments": {},
       "columnCustomDisplayInfos": {},
       "data": [
        [
         "Hotel_3",
         173948
        ],
        [
         "Hotel_9",
         155957
        ],
        [
         "Hotel_2",
         128299
        ],
        [
         "Hotel_7",
         90806
        ],
        [
         "Hotel_4",
         78407
        ],
        [
         "Hotel_8",
         74634
        ],
        [
         "Hotel_6",
         57447
        ],
        [
         "Hotel_10",
         43053
        ],
        [
         "Hotel_1",
         36456
        ],
        [
         "Hotel_5",
         33299
        ]
       ],
       "datasetInfos": [],
       "dbfsResultPath": null,
       "isJsonSchema": true,
       "metadata": {},
       "overflow": false,
       "plotOptions": {
        "customPlotOptions": {},
        "displayType": "table",
        "pivotAggregation": null,
        "pivotColumns": null,
        "xColumns": null,
        "yColumns": null
       },
       "removedWidgets": [],
       "schema": [
        {
         "metadata": "{}",
         "name": "hotel_name",
         "type": "\"string\""
        },
        {
         "metadata": "{}",
         "name": "total_revenue",
         "type": "\"long\""
        }
       ],
       "type": "table"
      }
     },
     "output_type": "display_data"
    },
    {
     "output_type": "display_data",
     "data": {
      "text/plain": [
       "Databricks visualization. Run in Databricks to view."
      ]
     },
     "metadata": {
      "application/vnd.databricks.v1.subcommand+json": {
       "baseErrorDetails": null,
       "bindings": {},
       "collapsed": false,
       "command": "%python\n__backend_agg_display_orig = display\n__backend_agg_dfs = []\ndef __backend_agg_display_new(df):\n    __backend_agg_df_modules = [\"pandas.core.frame\", \"databricks.koalas.frame\", \"pyspark.sql.dataframe\", \"pyspark.pandas.frame\", \"pyspark.sql.connect.dataframe\"]\n    if (type(df).__module__ in __backend_agg_df_modules and type(df).__name__ == 'DataFrame') or isinstance(df, list):\n        __backend_agg_dfs.append(df)\n\ndisplay = __backend_agg_display_new\n\ndef __backend_agg_user_code_fn():\n    import base64\n    exec(base64.standard_b64decode(\"IyBJbXBvcnQgdGhlIGZ1bmN0aW9ucyB3ZSB3aWxsIG5lZWQgZnJvbSBQeVNwYXJrCmZyb20gcHlzcGFyay5zcWwuZnVuY3Rpb25zIGltcG9ydCBjb2wsIHN1bSwgZGVzYwoKIyBUYXNrIDE6IENvbXB1dGUgVG90YWwgUmV2ZW51ZSBwZXIgSG90ZWwKIyAtIEZpbHRlciBmb3Igcm93cyB3aGVyZSBzdGF0dXMgaXMgJ0Jvb2tlZCcKIyAtIEdyb3VwIGJ5IGhvdGVsX25hbWUKIyAtIENhbGN1bGF0ZSB0aGUgc3VtIG9mIGFtb3VudF9zcGVudCBhbmQgcmVuYW1lIHRoZSBjb2x1bW4gdG8gJ3RvdGFsX3JldmVudWUnCiMgLSBPcmRlciB0aGUgcmVzdWx0cyBmcm9tIGhpZ2hlc3QgdG8gbG93ZXN0IHJldmVudWUKdG90YWxfcmV2ZW51ZV9wZXJfaG90ZWwgPSBkZi5maWx0ZXIoY29sKCJzdGF0dXMiKSA9PSAiQm9va2VkIikgXAogICAgLmdyb3VwQnkoImhvdGVsX25hbWUiKSBcCiAgICAuYWdnKHN1bSgiYW1vdW50X3NwZW50IikuYWxpYXMoInRvdGFsX3JldmVudWUiKSkgXAogICAgLm9yZGVyQnkoZGVzYygidG90YWxfcmV2ZW51ZSIpKQoKIyBEaXNwbGF5IHRoZSBmaW5hbCByZXN1bHQgaW4gYSB0YWJsZQpkaXNwbGF5KHRvdGFsX3JldmVudWVfcGVyX2hvdGVsKQ==\").decode())\n\ntry:\n    # run user code\n    __backend_agg_user_code_fn()\n\n    #reset display function\n    display = __backend_agg_display_orig\n\n    if len(__backend_agg_dfs) > 0:\n        # create a temp view\n        if type(__backend_agg_dfs[0]).__module__ == \"databricks.koalas.frame\":\n            # koalas dataframe\n            __backend_agg_dfs[0].to_spark().createOrReplaceTempView(\"DatabricksViewf667fc7\")\n        elif type(__backend_agg_dfs[0]).__module__ == \"pandas.core.frame\" or isinstance(__backend_agg_dfs[0], list):\n            # pandas dataframe\n            spark.createDataFrame(__backend_agg_dfs[0]).createOrReplaceTempView(\"DatabricksViewf667fc7\")\n        else:\n            __backend_agg_dfs[0].createOrReplaceTempView(\"DatabricksViewf667fc7\")\n        #run backend agg\n        display(spark.sql(\"\"\"WITH q AS (select * from DatabricksViewf667fc7) SELECT `hotel_name`,SUM(`total_revenue`) `column_1ca6ae4f153` FROM q GROUP BY `hotel_name`\"\"\"))\n    else:\n        displayHTML(\"dataframe no longer exists. If you're using dataframe.display(), use display(dataframe) instead.\")\n\n\nfinally:\n    spark.sql(\"drop view if exists DatabricksViewf667fc7\")\n    display = __backend_agg_display_orig\n    del __backend_agg_display_new\n    del __backend_agg_display_orig\n    del __backend_agg_dfs\n    del __backend_agg_user_code_fn\n\n",
       "commandTitle": "Visualization 1",
       "commandType": "auto",
       "commandVersion": 0,
       "commentThread": [],
       "commentsVisible": false,
       "contentSha256Hex": null,
       "customPlotOptions": {
        "redashChart": [
         {
          "key": "type",
          "value": "CHART"
         },
         {
          "key": "options",
          "value": {
           "alignYAxesAtZero": true,
           "coefficient": 1,
           "columnConfigurationMap": {
            "x": {
             "column": "hotel_name",
             "id": "column_1ca6ae4f152"
            },
            "y": [
             {
              "column": "total_revenue",
              "id": "column_1ca6ae4f153",
              "transform": "SUM"
             }
            ]
           },
           "dateTimeFormat": "DD/MM/YYYY HH:mm",
           "direction": {
            "type": "counterclockwise"
           },
           "error_y": {
            "type": "data",
            "visible": true
           },
           "globalSeriesType": "line",
           "legend": {
            "traceorder": "normal"
           },
           "missingValuesAsZero": true,
           "numberFormat": "0,0.[00000]",
           "percentFormat": "0[.]00%",
           "series": {
            "error_y": {
             "type": "data",
             "visible": true
            },
            "stacking": null
           },
           "seriesOptions": {
            "column_1ca6ae4f153": {
             "name": "total_revenue",
             "type": "line",
             "yAxis": 0
            }
           },
           "showDataLabels": false,
           "sizemode": "diameter",
           "sortX": true,
           "sortY": true,
           "swappedAxes": false,
           "textFormat": "",
           "useAggregationsUi": true,
           "valuesOptions": {},
           "version": 2,
           "xAxis": {
            "labels": {
             "enabled": true
            },
            "type": "-"
           },
           "yAxis": [
            {
             "type": "-"
            },
            {
             "opposite": true,
             "type": "-"
            }
           ]
          }
         }
        ]
       },
       "datasetPreviewNameToCmdIdMap": {},
       "diffDeletes": [],
       "diffInserts": [],
       "displayType": "redashChart",
       "error": null,
       "errorDetails": null,
       "errorSummary": null,
       "errorTraceType": null,
       "finishTime": 0,
       "globalVars": {},
       "guid": "",
       "height": "auto",
       "hideCommandCode": false,
       "hideCommandResult": false,
       "iPythonMetadata": null,
       "inputWidgets": {},
       "isLockedInExamMode": false,
       "latestUser": "a user",
       "latestUserId": null,
       "listResultMetadata": null,
       "metadata": {},
       "nuid": "b75f3f60-387e-48a9-923d-8fce0fef0570",
       "origId": 0,
       "parentHierarchy": [],
       "pivotAggregation": null,
       "pivotColumns": null,
       "position": 3.0,
       "resultDbfsErrorMessage": null,
       "resultDbfsStatus": "INLINED_IN_TREE",
       "results": null,
       "showCommandTitle": false,
       "startTime": 0,
       "state": "input",
       "streamStates": {},
       "subcommandOptions": {
        "queryPlan": {
         "groups": [
          {
           "column": "hotel_name",
           "type": "column"
          }
         ],
         "selects": [
          {
           "column": "hotel_name",
           "type": "column"
          },
          {
           "alias": "column_1ca6ae4f153",
           "args": [
            {
             "column": "total_revenue",
             "type": "column"
            }
           ],
           "function": "SUM",
           "type": "function"
          }
         ]
        }
       },
       "submitTime": 0,
       "subtype": "tableResultSubCmd.visualization",
       "tableResultIndex": 0,
       "tableResultSettingsMap": {},
       "useConsistentColors": false,
       "version": "CommandV1",
       "width": "auto",
       "workflows": [],
       "xColumns": null,
       "yColumns": null
      }
     },
     "output_type": "display_data"
    }
   ],
   "source": [
    "# Import the functions we will need from PySpark\n",
    "from pyspark.sql.functions import col, sum, desc\n",
    "\n",
    "# Task 1: Compute Total Revenue per Hotel\n",
    "# - Filter for rows where status is 'Booked'\n",
    "# - Group by hotel_name\n",
    "# - Calculate the sum of amount_spent and rename the column to 'total_revenue'\n",
    "# - Order the results from highest to lowest revenue\n",
    "total_revenue_per_hotel = df.filter(col(\"status\") == \"Booked\") \\\n",
    "    .groupBy(\"hotel_name\") \\\n",
    "    .agg(sum(\"amount_spent\").alias(\"total_revenue\")) \\\n",
    "    .orderBy(desc(\"total_revenue\"))\n",
    "\n",
    "# Display the final result in a table\n",
    "display(total_revenue_per_hotel)"
   ]
  },
  {
   "cell_type": "code",
   "execution_count": 0,
   "metadata": {
    "application/vnd.databricks.v1+cell": {
     "cellMetadata": {
      "byteLimit": 2048000,
      "rowLimit": 10000
     },
     "inputWidgets": {},
     "nuid": "bf8fb4c9-d384-48a1-91bb-96441d006065",
     "showTitle": false,
     "tableResultSettingsMap": {},
     "title": ""
    }
   },
   "outputs": [
    {
     "output_type": "display_data",
     "data": {
      "text/html": [
       "<style scoped>\n",
       "  .table-result-container {\n",
       "    max-height: 300px;\n",
       "    overflow: auto;\n",
       "  }\n",
       "  table, th, td {\n",
       "    border: 1px solid black;\n",
       "    border-collapse: collapse;\n",
       "  }\n",
       "  th, td {\n",
       "    padding: 5px;\n",
       "  }\n",
       "  th {\n",
       "    text-align: left;\n",
       "  }\n",
       "</style><div class='table-result-container'><table class='table-result'><thead style='background-color: white'><tr><th>location</th><th>average_stay_duration</th></tr></thead><tbody><tr><td>Hyderabad</td><td>5.0</td></tr><tr><td>Chennai</td><td>4.6</td></tr><tr><td>Mumbai</td><td>4.318181818181818</td></tr><tr><td>Delhi</td><td>4.0</td></tr><tr><td>Bangalore</td><td>3.8</td></tr></tbody></table></div>"
      ]
     },
     "metadata": {
      "application/vnd.databricks.v1+output": {
       "addedWidgets": {},
       "aggData": [],
       "aggError": "",
       "aggOverflow": false,
       "aggSchema": [],
       "aggSeriesLimitReached": false,
       "aggType": "",
       "arguments": {},
       "columnCustomDisplayInfos": {},
       "data": [
        [
         "Hyderabad",
         5.0
        ],
        [
         "Chennai",
         4.6
        ],
        [
         "Mumbai",
         4.318181818181818
        ],
        [
         "Delhi",
         4.0
        ],
        [
         "Bangalore",
         3.8
        ]
       ],
       "datasetInfos": [],
       "dbfsResultPath": null,
       "isJsonSchema": true,
       "metadata": {},
       "overflow": false,
       "plotOptions": {
        "customPlotOptions": {},
        "displayType": "table",
        "pivotAggregation": null,
        "pivotColumns": null,
        "xColumns": null,
        "yColumns": null
       },
       "removedWidgets": [],
       "schema": [
        {
         "metadata": "{}",
         "name": "location",
         "type": "\"string\""
        },
        {
         "metadata": "{}",
         "name": "average_stay_duration",
         "type": "\"double\""
        }
       ],
       "type": "table"
      }
     },
     "output_type": "display_data"
    },
    {
     "output_type": "display_data",
     "data": {
      "text/plain": [
       "Databricks visualization. Run in Databricks to view."
      ]
     },
     "metadata": {
      "application/vnd.databricks.v1.subcommand+json": {
       "baseErrorDetails": null,
       "bindings": {},
       "collapsed": false,
       "command": "%python\n__backend_agg_display_orig = display\n__backend_agg_dfs = []\ndef __backend_agg_display_new(df):\n    __backend_agg_df_modules = [\"pandas.core.frame\", \"databricks.koalas.frame\", \"pyspark.sql.dataframe\", \"pyspark.pandas.frame\", \"pyspark.sql.connect.dataframe\"]\n    if (type(df).__module__ in __backend_agg_df_modules and type(df).__name__ == 'DataFrame') or isinstance(df, list):\n        __backend_agg_dfs.append(df)\n\ndisplay = __backend_agg_display_new\n\ndef __backend_agg_user_code_fn():\n    import base64\n    exec(base64.standard_b64decode(\"IyBJbXBvcnQgdGhlIGF2ZyBmdW5jdGlvbgpmcm9tIHB5c3Bhcmsuc3FsLmZ1bmN0aW9ucyBpbXBvcnQgYXZnCgojIFRhc2sgMjogQ2FsY3VsYXRlIEF2ZXJhZ2UgU3RheSBEdXJhdGlvbiBieSBMb2NhdGlvbgojIC0gR3JvdXAgYnkgdGhlICdsb2NhdGlvbicgY29sdW1uCiMgLSBDYWxjdWxhdGUgdGhlIGF2ZXJhZ2Ugb2YgJ3N0YXlfZHVyYXRpb24nIGFuZCByZW5hbWUgaXQKIyAtIE9yZGVyIHRoZSByZXN1bHRzCmF2Z19zdGF5X2J5X2xvY2F0aW9uID0gZGYuZ3JvdXBCeSgibG9jYXRpb24iKSBcCiAgICAuYWdnKGF2Zygic3RheV9kdXJhdGlvbiIpLmFsaWFzKCJhdmVyYWdlX3N0YXlfZHVyYXRpb24iKSkgXAogICAgLm9yZGVyQnkoZGVzYygiYXZlcmFnZV9zdGF5X2R1cmF0aW9uIikpCgojIERpc3BsYXkgdGhlIGZpbmFsIHJlc3VsdApkaXNwbGF5KGF2Z19zdGF5X2J5X2xvY2F0aW9uKQ==\").decode())\n\ntry:\n    # run user code\n    __backend_agg_user_code_fn()\n\n    #reset display function\n    display = __backend_agg_display_orig\n\n    if len(__backend_agg_dfs) > 0:\n        # create a temp view\n        if type(__backend_agg_dfs[0]).__module__ == \"databricks.koalas.frame\":\n            # koalas dataframe\n            __backend_agg_dfs[0].to_spark().createOrReplaceTempView(\"DatabricksView129479b\")\n        elif type(__backend_agg_dfs[0]).__module__ == \"pandas.core.frame\" or isinstance(__backend_agg_dfs[0], list):\n            # pandas dataframe\n            spark.createDataFrame(__backend_agg_dfs[0]).createOrReplaceTempView(\"DatabricksView129479b\")\n        else:\n            __backend_agg_dfs[0].createOrReplaceTempView(\"DatabricksView129479b\")\n        #run backend agg\n        display(spark.sql(\"\"\"WITH q AS (select * from DatabricksView129479b) SELECT `location`,SUM(`average_stay_duration`) `column_1ca6ae4f156` FROM q GROUP BY `location`\"\"\"))\n    else:\n        displayHTML(\"dataframe no longer exists. If you're using dataframe.display(), use display(dataframe) instead.\")\n\n\nfinally:\n    spark.sql(\"drop view if exists DatabricksView129479b\")\n    display = __backend_agg_display_orig\n    del __backend_agg_display_new\n    del __backend_agg_display_orig\n    del __backend_agg_dfs\n    del __backend_agg_user_code_fn\n\n",
       "commandTitle": "Visualization 1",
       "commandType": "auto",
       "commandVersion": 0,
       "commentThread": [],
       "commentsVisible": false,
       "contentSha256Hex": null,
       "customPlotOptions": {
        "redashChart": [
         {
          "key": "type",
          "value": "CHART"
         },
         {
          "key": "options",
          "value": {
           "alignYAxesAtZero": true,
           "coefficient": 1,
           "columnConfigurationMap": {
            "x": {
             "column": "location",
             "id": "column_1ca6ae4f155"
            },
            "y": [
             {
              "column": "average_stay_duration",
              "id": "column_1ca6ae4f156",
              "transform": "SUM"
             }
            ]
           },
           "dateTimeFormat": "DD/MM/YYYY HH:mm",
           "direction": {
            "type": "counterclockwise"
           },
           "error_y": {
            "type": "data",
            "visible": true
           },
           "globalSeriesType": "pie",
           "legend": {
            "traceorder": "normal"
           },
           "missingValuesAsZero": true,
           "numberFormat": "0,0.[00000]",
           "percentFormat": "0[.]00%",
           "series": {
            "error_y": {
             "type": "data",
             "visible": true
            },
            "stacking": null
           },
           "seriesOptions": {
            "column_1ca6ae4f156": {
             "name": "average_stay_duration",
             "type": "pie",
             "yAxis": 0
            }
           },
           "showDataLabels": true,
           "sizemode": "diameter",
           "sortX": true,
           "sortY": true,
           "swappedAxes": false,
           "textFormat": "",
           "useAggregationsUi": true,
           "valuesOptions": {},
           "version": 2,
           "xAxis": {
            "labels": {
             "enabled": true
            },
            "type": "-"
           },
           "yAxis": [
            {
             "type": "-"
            },
            {
             "opposite": true,
             "type": "-"
            }
           ]
          }
         }
        ]
       },
       "datasetPreviewNameToCmdIdMap": {},
       "diffDeletes": [],
       "diffInserts": [],
       "displayType": "redashChart",
       "error": null,
       "errorDetails": null,
       "errorSummary": null,
       "errorTraceType": null,
       "finishTime": 0,
       "globalVars": {},
       "guid": "",
       "height": "auto",
       "hideCommandCode": false,
       "hideCommandResult": false,
       "iPythonMetadata": null,
       "inputWidgets": {},
       "isLockedInExamMode": false,
       "latestUser": "a user",
       "latestUserId": null,
       "listResultMetadata": null,
       "metadata": {},
       "nuid": "c68728cb-74c1-4c05-b4d0-4ee7c6de8fc9",
       "origId": 0,
       "parentHierarchy": [],
       "pivotAggregation": null,
       "pivotColumns": null,
       "position": 4.0,
       "resultDbfsErrorMessage": null,
       "resultDbfsStatus": "INLINED_IN_TREE",
       "results": null,
       "showCommandTitle": false,
       "startTime": 0,
       "state": "input",
       "streamStates": {},
       "subcommandOptions": {
        "queryPlan": {
         "groups": [
          {
           "column": "location",
           "type": "column"
          }
         ],
         "selects": [
          {
           "column": "location",
           "type": "column"
          },
          {
           "alias": "column_1ca6ae4f156",
           "args": [
            {
             "column": "average_stay_duration",
             "type": "column"
            }
           ],
           "function": "SUM",
           "type": "function"
          }
         ]
        }
       },
       "submitTime": 0,
       "subtype": "tableResultSubCmd.visualization",
       "tableResultIndex": 0,
       "tableResultSettingsMap": {},
       "useConsistentColors": false,
       "version": "CommandV1",
       "width": "auto",
       "workflows": [],
       "xColumns": null,
       "yColumns": null
      }
     },
     "output_type": "display_data"
    }
   ],
   "source": [
    "# Import the avg function\n",
    "from pyspark.sql.functions import avg\n",
    "\n",
    "# Task 2: Calculate Average Stay Duration by Location\n",
    "# - Group by the 'location' column\n",
    "# - Calculate the average of 'stay_duration' and rename it\n",
    "# - Order the results\n",
    "avg_stay_by_location = df.groupBy(\"location\") \\\n",
    "    .agg(avg(\"stay_duration\").alias(\"average_stay_duration\")) \\\n",
    "    .orderBy(desc(\"average_stay_duration\"))\n",
    "\n",
    "# Display the final result\n",
    "display(avg_stay_by_location)"
   ]
  },
  {
   "cell_type": "code",
   "execution_count": 0,
   "metadata": {
    "application/vnd.databricks.v1+cell": {
     "cellMetadata": {
      "byteLimit": 2048000,
      "rowLimit": 10000
     },
     "inputWidgets": {},
     "nuid": "1e72babc-a42e-4290-a003-39cdb2dcfef1",
     "showTitle": false,
     "tableResultSettingsMap": {},
     "title": ""
    }
   },
   "outputs": [
    {
     "output_type": "stream",
     "name": "stdout",
     "output_type": "stream",
     "text": [
      "Temporary view 'bookings_view' created successfully.\n"
     ]
    }
   ],
   "source": [
    "# Register the DataFrame 'df' as a temporary SQL view named 'bookings_view'\n",
    "# This allows us to query it using spark.sql()\n",
    "df.createOrReplaceTempView(\"bookings_view\")\n",
    "\n",
    "print(\"Temporary view 'bookings_view' created successfully.\")"
   ]
  },
  {
   "cell_type": "code",
   "execution_count": 0,
   "metadata": {
    "application/vnd.databricks.v1+cell": {
     "cellMetadata": {
      "byteLimit": 2048000,
      "rowLimit": 10000
     },
     "inputWidgets": {},
     "nuid": "8236ab7d-b299-4be2-9e1d-744fb69f1390",
     "showTitle": false,
     "tableResultSettingsMap": {},
     "title": ""
    }
   },
   "outputs": [
    {
     "output_type": "display_data",
     "data": {
      "text/html": [
       "<style scoped>\n",
       "  .table-result-container {\n",
       "    max-height: 300px;\n",
       "    overflow: auto;\n",
       "  }\n",
       "  table, th, td {\n",
       "    border: 1px solid black;\n",
       "    border-collapse: collapse;\n",
       "  }\n",
       "  th, td {\n",
       "    padding: 5px;\n",
       "  }\n",
       "  th {\n",
       "    text-align: left;\n",
       "  }\n",
       "</style><div class='table-result-container'><table class='table-result'><thead style='background-color: white'><tr><th>hotel_name</th><th>cancellation_rate</th></tr></thead><tbody><tr><td>Hotel_5</td><td>87.50000000000000</td></tr><tr><td>Hotel_1</td><td>66.66666666666667</td></tr><tr><td>Hotel_8</td><td>66.66666666666667</td></tr><tr><td>Hotel_10</td><td>57.14285714285714</td></tr><tr><td>Hotel_4</td><td>53.84615384615385</td></tr><tr><td>Hotel_3</td><td>50.00000000000000</td></tr><tr><td>Hotel_9</td><td>27.27272727272727</td></tr><tr><td>Hotel_6</td><td>25.00000000000000</td></tr><tr><td>Hotel_2</td><td>22.22222222222222</td></tr><tr><td>Hotel_7</td><td>0E-14</td></tr></tbody></table></div>"
      ]
     },
     "metadata": {
      "application/vnd.databricks.v1+output": {
       "addedWidgets": {},
       "aggData": [],
       "aggError": "",
       "aggOverflow": false,
       "aggSchema": [],
       "aggSeriesLimitReached": false,
       "aggType": "",
       "arguments": {},
       "columnCustomDisplayInfos": {},
       "data": [
        [
         "Hotel_5",
         "87.50000000000000"
        ],
        [
         "Hotel_1",
         "66.66666666666667"
        ],
        [
         "Hotel_8",
         "66.66666666666667"
        ],
        [
         "Hotel_10",
         "57.14285714285714"
        ],
        [
         "Hotel_4",
         "53.84615384615385"
        ],
        [
         "Hotel_3",
         "50.00000000000000"
        ],
        [
         "Hotel_9",
         "27.27272727272727"
        ],
        [
         "Hotel_6",
         "25.00000000000000"
        ],
        [
         "Hotel_2",
         "22.22222222222222"
        ],
        [
         "Hotel_7",
         "0E-14"
        ]
       ],
       "datasetInfos": [],
       "dbfsResultPath": null,
       "isJsonSchema": true,
       "metadata": {},
       "overflow": false,
       "plotOptions": {
        "customPlotOptions": {},
        "displayType": "table",
        "pivotAggregation": null,
        "pivotColumns": null,
        "xColumns": null,
        "yColumns": null
       },
       "removedWidgets": [],
       "schema": [
        {
         "metadata": "{}",
         "name": "hotel_name",
         "type": "\"string\""
        },
        {
         "metadata": "{}",
         "name": "cancellation_rate",
         "type": "\"decimal(38,14)\""
        }
       ],
       "type": "table"
      }
     },
     "output_type": "display_data"
    }
   ],
   "source": [
    "# This SQL query calculates the cancellation rate for each hotel.\n",
    "# It counts the total bookings and the number of cancelled bookings, then finds the percentage.\n",
    "cancellation_rate_query = \"\"\"\n",
    "    SELECT\n",
    "        hotel_name,\n",
    "        (SUM(CASE WHEN status = 'Cancelled' THEN 1 ELSE 0 END) * 100.0 / COUNT(*)) AS cancellation_rate\n",
    "    FROM\n",
    "        bookings_view\n",
    "    GROUP BY\n",
    "        hotel_name\n",
    "    ORDER BY\n",
    "        cancellation_rate DESC\n",
    "\"\"\"\n",
    "\n",
    "# Execute the SQL query using spark.sql()\n",
    "cancellation_rates_df = spark.sql(cancellation_rate_query)\n",
    "\n",
    "# Display the results\n",
    "display(cancellation_rates_df)"
   ]
  },
  {
   "cell_type": "code",
   "execution_count": 0,
   "metadata": {
    "application/vnd.databricks.v1+cell": {
     "cellMetadata": {
      "byteLimit": 2048000,
      "rowLimit": 10000
     },
     "inputWidgets": {},
     "nuid": "ce393f06-e496-4a24-8db8-2b736186e1fe",
     "showTitle": false,
     "tableResultSettingsMap": {},
     "title": ""
    }
   },
   "outputs": [
    {
     "output_type": "display_data",
     "data": {
      "text/html": [
       "<style scoped>\n",
       "  .table-result-container {\n",
       "    max-height: 300px;\n",
       "    overflow: auto;\n",
       "  }\n",
       "  table, th, td {\n",
       "    border: 1px solid black;\n",
       "    border-collapse: collapse;\n",
       "  }\n",
       "  th, td {\n",
       "    padding: 5px;\n",
       "  }\n",
       "  th {\n",
       "    text-align: left;\n",
       "  }\n",
       "</style><div class='table-result-container'><table class='table-result'><thead style='background-color: white'><tr><th>location</th><th>booking_month</th><th>monthly_revenue</th></tr></thead><tbody><tr><td>Bangalore</td><td>2</td><td>17486</td></tr><tr><td>Bangalore</td><td>4</td><td>33299</td></tr><tr><td>Bangalore</td><td>5</td><td>2876</td></tr><tr><td>Bangalore</td><td>7</td><td>23772</td></tr><tr><td>Bangalore</td><td>8</td><td>30630</td></tr><tr><td>Bangalore</td><td>10</td><td>11625</td></tr><tr><td>Bangalore</td><td>12</td><td>7374</td></tr><tr><td>Chennai</td><td>2</td><td>7138</td></tr><tr><td>Chennai</td><td>4</td><td>78153</td></tr><tr><td>Chennai</td><td>5</td><td>3973</td></tr><tr><td>Chennai</td><td>6</td><td>75742</td></tr><tr><td>Chennai</td><td>7</td><td>52409</td></tr><tr><td>Chennai</td><td>11</td><td>22302</td></tr><tr><td>Delhi</td><td>1</td><td>35168</td></tr><tr><td>Delhi</td><td>4</td><td>29146</td></tr><tr><td>Delhi</td><td>5</td><td>9718</td></tr><tr><td>Delhi</td><td>9</td><td>44158</td></tr><tr><td>Delhi</td><td>11</td><td>6597</td></tr><tr><td>Delhi</td><td>12</td><td>71334</td></tr><tr><td>Hyderabad</td><td>1</td><td>66920</td></tr><tr><td>Hyderabad</td><td>2</td><td>38374</td></tr><tr><td>Hyderabad</td><td>5</td><td>7656</td></tr><tr><td>Hyderabad</td><td>9</td><td>21210</td></tr><tr><td>Hyderabad</td><td>10</td><td>9040</td></tr><tr><td>Hyderabad</td><td>11</td><td>18006</td></tr><tr><td>Mumbai</td><td>1</td><td>61190</td></tr><tr><td>Mumbai</td><td>3</td><td>7680</td></tr><tr><td>Mumbai</td><td>4</td><td>17367</td></tr><tr><td>Mumbai</td><td>8</td><td>55804</td></tr><tr><td>Mumbai</td><td>10</td><td>6159</td></tr></tbody></table></div>"
      ]
     },
     "metadata": {
      "application/vnd.databricks.v1+output": {
       "addedWidgets": {},
       "aggData": [],
       "aggError": "",
       "aggOverflow": false,
       "aggSchema": [],
       "aggSeriesLimitReached": false,
       "aggType": "",
       "arguments": {},
       "columnCustomDisplayInfos": {},
       "data": [
        [
         "Bangalore",
         2,
         17486
        ],
        [
         "Bangalore",
         4,
         33299
        ],
        [
         "Bangalore",
         5,
         2876
        ],
        [
         "Bangalore",
         7,
         23772
        ],
        [
         "Bangalore",
         8,
         30630
        ],
        [
         "Bangalore",
         10,
         11625
        ],
        [
         "Bangalore",
         12,
         7374
        ],
        [
         "Chennai",
         2,
         7138
        ],
        [
         "Chennai",
         4,
         78153
        ],
        [
         "Chennai",
         5,
         3973
        ],
        [
         "Chennai",
         6,
         75742
        ],
        [
         "Chennai",
         7,
         52409
        ],
        [
         "Chennai",
         11,
         22302
        ],
        [
         "Delhi",
         1,
         35168
        ],
        [
         "Delhi",
         4,
         29146
        ],
        [
         "Delhi",
         5,
         9718
        ],
        [
         "Delhi",
         9,
         44158
        ],
        [
         "Delhi",
         11,
         6597
        ],
        [
         "Delhi",
         12,
         71334
        ],
        [
         "Hyderabad",
         1,
         66920
        ],
        [
         "Hyderabad",
         2,
         38374
        ],
        [
         "Hyderabad",
         5,
         7656
        ],
        [
         "Hyderabad",
         9,
         21210
        ],
        [
         "Hyderabad",
         10,
         9040
        ],
        [
         "Hyderabad",
         11,
         18006
        ],
        [
         "Mumbai",
         1,
         61190
        ],
        [
         "Mumbai",
         3,
         7680
        ],
        [
         "Mumbai",
         4,
         17367
        ],
        [
         "Mumbai",
         8,
         55804
        ],
        [
         "Mumbai",
         10,
         6159
        ]
       ],
       "datasetInfos": [],
       "dbfsResultPath": null,
       "isJsonSchema": true,
       "metadata": {},
       "overflow": false,
       "plotOptions": {
        "customPlotOptions": {},
        "displayType": "table",
        "pivotAggregation": null,
        "pivotColumns": null,
        "xColumns": null,
        "yColumns": null
       },
       "removedWidgets": [],
       "schema": [
        {
         "metadata": "{}",
         "name": "location",
         "type": "\"string\""
        },
        {
         "metadata": "{}",
         "name": "booking_month",
         "type": "\"integer\""
        },
        {
         "metadata": "{}",
         "name": "monthly_revenue",
         "type": "\"long\""
        }
       ],
       "type": "table"
      }
     },
     "output_type": "display_data"
    },
    {
     "output_type": "display_data",
     "data": {
      "text/plain": [
       "Databricks visualization. Run in Databricks to view."
      ]
     },
     "metadata": {
      "application/vnd.databricks.v1.subcommand+json": {
       "baseErrorDetails": null,
       "bindings": {},
       "collapsed": false,
       "command": "%python\n__backend_agg_display_orig = display\n__backend_agg_dfs = []\ndef __backend_agg_display_new(df):\n    __backend_agg_df_modules = [\"pandas.core.frame\", \"databricks.koalas.frame\", \"pyspark.sql.dataframe\", \"pyspark.pandas.frame\", \"pyspark.sql.connect.dataframe\"]\n    if (type(df).__module__ in __backend_agg_df_modules and type(df).__name__ == 'DataFrame') or isinstance(df, list):\n        __backend_agg_dfs.append(df)\n\ndisplay = __backend_agg_display_new\n\ndef __backend_agg_user_code_fn():\n    import base64\n    exec(base64.standard_b64decode(\"IyBUaGlzIFNRTCBxdWVyeSBmaW5kcyBzZWFzb25hbCB0cmVuZHMgYnkgY2FsY3VsYXRpbmcgdGhlIHRvdGFsIHJldmVudWUKIyBmb3IgZWFjaCBsb2NhdGlvbiBmb3IgZWFjaCBtb250aCBvZiB0aGUgeWVhci4Kc2Vhc29uYWxfdHJlbmRzX3F1ZXJ5ID0gIiIiCiAgICBTRUxFQ1QKICAgICAgICBsb2NhdGlvbiwKICAgICAgICBNT05USChib29raW5nX2RhdGUpIEFTIGJvb2tpbmdfbW9udGgsCiAgICAgICAgU1VNKGFtb3VudF9zcGVudCkgQVMgbW9udGhseV9yZXZlbnVlCiAgICBGUk9NCiAgICAgICAgYm9va2luZ3NfdmlldwogICAgV0hFUkUKICAgICAgICBzdGF0dXMgPSAnQm9va2VkJwogICAgR1JPVVAgQlkKICAgICAgICBsb2NhdGlvbiwgYm9va2luZ19tb250aAogICAgT1JERVIgQlkKICAgICAgICBsb2NhdGlvbiwgYm9va2luZ19tb250aAoiIiIKCiMgRXhlY3V0ZSB0aGUgU1FMIHF1ZXJ5CnNlYXNvbmFsX3RyZW5kc19kZiA9IHNwYXJrLnNxbChzZWFzb25hbF90cmVuZHNfcXVlcnkpCgojIERpc3BsYXkgdGhlIHJlc3VsdHMKZGlzcGxheShzZWFzb25hbF90cmVuZHNfZGYp\").decode())\n\ntry:\n    # run user code\n    __backend_agg_user_code_fn()\n\n    #reset display function\n    display = __backend_agg_display_orig\n\n    if len(__backend_agg_dfs) > 0:\n        # create a temp view\n        if type(__backend_agg_dfs[0]).__module__ == \"databricks.koalas.frame\":\n            # koalas dataframe\n            __backend_agg_dfs[0].to_spark().createOrReplaceTempView(\"DatabricksViewa4128c8\")\n        elif type(__backend_agg_dfs[0]).__module__ == \"pandas.core.frame\" or isinstance(__backend_agg_dfs[0], list):\n            # pandas dataframe\n            spark.createDataFrame(__backend_agg_dfs[0]).createOrReplaceTempView(\"DatabricksViewa4128c8\")\n        else:\n            __backend_agg_dfs[0].createOrReplaceTempView(\"DatabricksViewa4128c8\")\n        #run backend agg\n        display(spark.sql(\"\"\"WITH q AS (select * from DatabricksViewa4128c8) SELECT `booking_month`,SUM(`monthly_revenue`) `column_1ca6ae4f159`,`location` FROM q GROUP BY `booking_month`,`location`\"\"\"))\n    else:\n        displayHTML(\"dataframe no longer exists. If you're using dataframe.display(), use display(dataframe) instead.\")\n\n\nfinally:\n    spark.sql(\"drop view if exists DatabricksViewa4128c8\")\n    display = __backend_agg_display_orig\n    del __backend_agg_display_new\n    del __backend_agg_display_orig\n    del __backend_agg_dfs\n    del __backend_agg_user_code_fn\n\n",
       "commandTitle": "Visualization 1",
       "commandType": "auto",
       "commandVersion": 0,
       "commentThread": [],
       "commentsVisible": false,
       "contentSha256Hex": null,
       "customPlotOptions": {
        "redashChart": [
         {
          "key": "type",
          "value": "CHART"
         },
         {
          "key": "options",
          "value": {
           "alignYAxesAtZero": true,
           "coefficient": 1,
           "columnConfigurationMap": {
            "series": {
             "column": "location",
             "id": "column_1ca6ae4f160"
            },
            "x": {
             "column": "booking_month",
             "id": "column_1ca6ae4f158"
            },
            "y": [
             {
              "column": "monthly_revenue",
              "id": "column_1ca6ae4f159",
              "transform": "SUM"
             }
            ]
           },
           "dateTimeFormat": "DD/MM/YYYY HH:mm",
           "direction": {
            "type": "counterclockwise"
           },
           "error_y": {
            "type": "data",
            "visible": true
           },
           "globalSeriesType": "column",
           "isAggregationOn": true,
           "legend": {
            "traceorder": "normal"
           },
           "missingValuesAsZero": true,
           "numberFormat": "0,0.[00000]",
           "percentFormat": "0[.]00%",
           "series": {
            "error_y": {
             "type": "data",
             "visible": true
            },
            "stacking": null
           },
           "seriesOptions": {
            "column_1ca6ae4f159": {
             "name": "monthly_revenue",
             "type": "column",
             "yAxis": 0
            }
           },
           "showDataLabels": false,
           "sizemode": "diameter",
           "sortX": true,
           "sortY": true,
           "swappedAxes": false,
           "textFormat": "",
           "useAggregationsUi": true,
           "valuesOptions": {},
           "version": 2,
           "xAxis": {
            "labels": {
             "enabled": true
            },
            "type": "-"
           },
           "yAxis": [
            {
             "type": "-"
            },
            {
             "opposite": true,
             "type": "-"
            }
           ]
          }
         }
        ]
       },
       "datasetPreviewNameToCmdIdMap": {},
       "diffDeletes": [],
       "diffInserts": [],
       "displayType": "redashChart",
       "error": null,
       "errorDetails": null,
       "errorSummary": null,
       "errorTraceType": null,
       "finishTime": 0,
       "globalVars": {},
       "guid": "",
       "height": "auto",
       "hideCommandCode": false,
       "hideCommandResult": false,
       "iPythonMetadata": null,
       "inputWidgets": {},
       "isLockedInExamMode": false,
       "latestUser": "a user",
       "latestUserId": null,
       "listResultMetadata": null,
       "metadata": {},
       "nuid": "ab4148c0-b028-48d3-9efb-b5a6b99395ec",
       "origId": 0,
       "parentHierarchy": [],
       "pivotAggregation": null,
       "pivotColumns": null,
       "position": 7.0,
       "resultDbfsErrorMessage": null,
       "resultDbfsStatus": "INLINED_IN_TREE",
       "results": null,
       "showCommandTitle": false,
       "startTime": 0,
       "state": "input",
       "streamStates": {},
       "subcommandOptions": {
        "queryPlan": {
         "groups": [
          {
           "column": "booking_month",
           "type": "column"
          },
          {
           "column": "location",
           "type": "column"
          }
         ],
         "selects": [
          {
           "column": "booking_month",
           "type": "column"
          },
          {
           "alias": "column_1ca6ae4f159",
           "args": [
            {
             "column": "monthly_revenue",
             "type": "column"
            }
           ],
           "function": "SUM",
           "type": "function"
          },
          {
           "column": "location",
           "type": "column"
          }
         ]
        }
       },
       "submitTime": 0,
       "subtype": "tableResultSubCmd.visualization",
       "tableResultIndex": 0,
       "tableResultSettingsMap": {},
       "useConsistentColors": false,
       "version": "CommandV1",
       "width": "auto",
       "workflows": [],
       "xColumns": null,
       "yColumns": null
      }
     },
     "output_type": "display_data"
    }
   ],
   "source": [
    "# This SQL query finds seasonal trends by calculating the total revenue\n",
    "# for each location for each month of the year.\n",
    "seasonal_trends_query = \"\"\"\n",
    "    SELECT\n",
    "        location,\n",
    "        MONTH(booking_date) AS booking_month,\n",
    "        SUM(amount_spent) AS monthly_revenue\n",
    "    FROM\n",
    "        bookings_view\n",
    "    WHERE\n",
    "        status = 'Booked'\n",
    "    GROUP BY\n",
    "        location, booking_month\n",
    "    ORDER BY\n",
    "        location, booking_month\n",
    "\"\"\"\n",
    "\n",
    "# Execute the SQL query\n",
    "seasonal_trends_df = spark.sql(seasonal_trends_query)\n",
    "\n",
    "# Display the results\n",
    "display(seasonal_trends_df)"
   ]
  },
  {
   "cell_type": "code",
   "execution_count": 0,
   "metadata": {
    "application/vnd.databricks.v1+cell": {
     "cellMetadata": {
      "byteLimit": 2048000,
      "rowLimit": 10000
     },
     "inputWidgets": {},
     "nuid": "b53359a2-8117-4e5a-96ac-b157bf4429e5",
     "showTitle": false,
     "tableResultSettingsMap": {},
     "title": ""
    }
   },
   "outputs": [
    {
     "output_type": "display_data",
     "data": {
      "text/html": [
       "<style scoped>\n",
       "  .table-result-container {\n",
       "    max-height: 300px;\n",
       "    overflow: auto;\n",
       "  }\n",
       "  table, th, td {\n",
       "    border: 1px solid black;\n",
       "    border-collapse: collapse;\n",
       "  }\n",
       "  th, td {\n",
       "    padding: 5px;\n",
       "  }\n",
       "  th {\n",
       "    text-align: left;\n",
       "  }\n",
       "</style><div class='table-result-container'><table class='table-result'><thead style='background-color: white'><tr><th>hotel_name</th><th>total_revenue</th></tr></thead><tbody><tr><td>Hotel_3</td><td>173948</td></tr><tr><td>Hotel_9</td><td>155957</td></tr><tr><td>Hotel_2</td><td>128299</td></tr><tr><td>Hotel_7</td><td>90806</td></tr><tr><td>Hotel_4</td><td>78407</td></tr><tr><td>Hotel_8</td><td>74634</td></tr><tr><td>Hotel_6</td><td>57447</td></tr><tr><td>Hotel_10</td><td>43053</td></tr><tr><td>Hotel_1</td><td>36456</td></tr><tr><td>Hotel_5</td><td>33299</td></tr></tbody></table></div>"
      ]
     },
     "metadata": {
      "application/vnd.databricks.v1+output": {
       "addedWidgets": {},
       "aggData": [],
       "aggError": "",
       "aggOverflow": false,
       "aggSchema": [],
       "aggSeriesLimitReached": false,
       "aggType": "",
       "arguments": {},
       "columnCustomDisplayInfos": {},
       "data": [
        [
         "Hotel_3",
         173948
        ],
        [
         "Hotel_9",
         155957
        ],
        [
         "Hotel_2",
         128299
        ],
        [
         "Hotel_7",
         90806
        ],
        [
         "Hotel_4",
         78407
        ],
        [
         "Hotel_8",
         74634
        ],
        [
         "Hotel_6",
         57447
        ],
        [
         "Hotel_10",
         43053
        ],
        [
         "Hotel_1",
         36456
        ],
        [
         "Hotel_5",
         33299
        ]
       ],
       "datasetInfos": [],
       "dbfsResultPath": null,
       "isJsonSchema": true,
       "metadata": {},
       "overflow": false,
       "plotOptions": {
        "customPlotOptions": {},
        "displayType": "table",
        "pivotAggregation": null,
        "pivotColumns": null,
        "xColumns": null,
        "yColumns": null
       },
       "removedWidgets": [],
       "schema": [
        {
         "metadata": "{}",
         "name": "hotel_name",
         "type": "\"string\""
        },
        {
         "metadata": "{}",
         "name": "total_revenue",
         "type": "\"long\""
        }
       ],
       "type": "table"
      }
     },
     "output_type": "display_data"
    },
    {
     "output_type": "display_data",
     "data": {
      "text/plain": [
       "Databricks visualization. Run in Databricks to view."
      ]
     },
     "metadata": {
      "application/vnd.databricks.v1.subcommand+json": {
       "baseErrorDetails": null,
       "bindings": {},
       "collapsed": false,
       "command": "%python\n__backend_agg_display_orig = display\n__backend_agg_dfs = []\ndef __backend_agg_display_new(df):\n    __backend_agg_df_modules = [\"pandas.core.frame\", \"databricks.koalas.frame\", \"pyspark.sql.dataframe\", \"pyspark.pandas.frame\", \"pyspark.sql.connect.dataframe\"]\n    if (type(df).__module__ in __backend_agg_df_modules and type(df).__name__ == 'DataFrame') or isinstance(df, list):\n        __backend_agg_dfs.append(df)\n\ndisplay = __backend_agg_display_new\n\ndef __backend_agg_user_code_fn():\n    import base64\n    exec(base64.standard_b64decode(\"IyBDT1JSRUNUIC0gVGhpcyB3aWxsIHNob3cgdGhlIGNoYXJ0IGljb25zCmRpc3BsYXkodG90YWxfcmV2ZW51ZV9wZXJfaG90ZWwp\").decode())\n\ntry:\n    # run user code\n    __backend_agg_user_code_fn()\n\n    #reset display function\n    display = __backend_agg_display_orig\n\n    if len(__backend_agg_dfs) > 0:\n        # create a temp view\n        if type(__backend_agg_dfs[0]).__module__ == \"databricks.koalas.frame\":\n            # koalas dataframe\n            __backend_agg_dfs[0].to_spark().createOrReplaceTempView(\"DatabricksViewcb360f7\")\n        elif type(__backend_agg_dfs[0]).__module__ == \"pandas.core.frame\" or isinstance(__backend_agg_dfs[0], list):\n            # pandas dataframe\n            spark.createDataFrame(__backend_agg_dfs[0]).createOrReplaceTempView(\"DatabricksViewcb360f7\")\n        else:\n            __backend_agg_dfs[0].createOrReplaceTempView(\"DatabricksViewcb360f7\")\n        #run backend agg\n        display(spark.sql(\"\"\"WITH q AS (select * from DatabricksViewcb360f7) SELECT `hotel_name`,SUM(`total_revenue`) `column_1ca6ae4f163` FROM q GROUP BY `hotel_name`\"\"\"))\n    else:\n        displayHTML(\"dataframe no longer exists. If you're using dataframe.display(), use display(dataframe) instead.\")\n\n\nfinally:\n    spark.sql(\"drop view if exists DatabricksViewcb360f7\")\n    display = __backend_agg_display_orig\n    del __backend_agg_display_new\n    del __backend_agg_display_orig\n    del __backend_agg_dfs\n    del __backend_agg_user_code_fn\n\n",
       "commandTitle": "Visualization 1",
       "commandType": "auto",
       "commandVersion": 0,
       "commentThread": [],
       "commentsVisible": false,
       "contentSha256Hex": null,
       "customPlotOptions": {
        "redashChart": [
         {
          "key": "type",
          "value": "CHART"
         },
         {
          "key": "options",
          "value": {
           "alignYAxesAtZero": true,
           "coefficient": 1,
           "columnConfigurationMap": {
            "x": {
             "column": "hotel_name",
             "id": "column_1ca6ae4f162"
            },
            "y": [
             {
              "column": "total_revenue",
              "id": "column_1ca6ae4f163",
              "transform": "SUM"
             }
            ]
           },
           "dateTimeFormat": "DD/MM/YYYY HH:mm",
           "direction": {
            "type": "counterclockwise"
           },
           "error_y": {
            "type": "data",
            "visible": true
           },
           "globalSeriesType": "column",
           "legend": {
            "traceorder": "normal"
           },
           "missingValuesAsZero": true,
           "numberFormat": "0,0.[00000]",
           "percentFormat": "0[.]00%",
           "series": {
            "error_y": {
             "type": "data",
             "visible": true
            },
            "stacking": null
           },
           "seriesOptions": {
            "column_1ca6ae4f163": {
             "name": "total_revenue",
             "yAxis": 0
            }
           },
           "showDataLabels": false,
           "sizemode": "diameter",
           "sortX": true,
           "sortY": true,
           "swappedAxes": true,
           "textFormat": "",
           "useAggregationsUi": true,
           "valuesOptions": {},
           "version": 2,
           "xAxis": {
            "labels": {
             "enabled": true
            },
            "type": "-"
           },
           "yAxis": [
            {
             "type": "-"
            },
            {
             "opposite": true,
             "type": "-"
            }
           ]
          }
         }
        ]
       },
       "datasetPreviewNameToCmdIdMap": {},
       "diffDeletes": [],
       "diffInserts": [],
       "displayType": "redashChart",
       "error": null,
       "errorDetails": null,
       "errorSummary": null,
       "errorTraceType": null,
       "finishTime": 0,
       "globalVars": {},
       "guid": "",
       "height": "auto",
       "hideCommandCode": false,
       "hideCommandResult": false,
       "iPythonMetadata": null,
       "inputWidgets": {},
       "isLockedInExamMode": false,
       "latestUser": "a user",
       "latestUserId": null,
       "listResultMetadata": null,
       "metadata": {},
       "nuid": "b96c9f83-96ea-4bf3-9a7f-8c0a261db567",
       "origId": 0,
       "parentHierarchy": [],
       "pivotAggregation": null,
       "pivotColumns": null,
       "position": 8.0,
       "resultDbfsErrorMessage": null,
       "resultDbfsStatus": "INLINED_IN_TREE",
       "results": null,
       "showCommandTitle": false,
       "startTime": 0,
       "state": "input",
       "streamStates": {},
       "subcommandOptions": {
        "queryPlan": {
         "groups": [
          {
           "column": "hotel_name",
           "type": "column"
          }
         ],
         "selects": [
          {
           "column": "hotel_name",
           "type": "column"
          },
          {
           "alias": "column_1ca6ae4f163",
           "args": [
            {
             "column": "total_revenue",
             "type": "column"
            }
           ],
           "function": "SUM",
           "type": "function"
          }
         ]
        }
       },
       "submitTime": 0,
       "subtype": "tableResultSubCmd.visualization",
       "tableResultIndex": 0,
       "tableResultSettingsMap": {},
       "useConsistentColors": false,
       "version": "CommandV1",
       "width": "auto",
       "workflows": [],
       "xColumns": null,
       "yColumns": null
      }
     },
     "output_type": "display_data"
    }
   ],
   "source": [
    "# CORRECT - This will show the chart icons\n",
    "display(total_revenue_per_hotel)"
   ]
  },
  {
   "cell_type": "code",
   "execution_count": 0,
   "metadata": {
    "application/vnd.databricks.v1+cell": {
     "cellMetadata": {
      "byteLimit": 2048000,
      "rowLimit": 10000
     },
     "inputWidgets": {},
     "nuid": "c4fa1ed0-cb27-433d-bb30-999dc36b3cde",
     "showTitle": false,
     "tableResultSettingsMap": {},
     "title": ""
    }
   },
   "outputs": [
    {
     "output_type": "display_data",
     "data": {
      "text/html": [
       "<style scoped>\n",
       "  .table-result-container {\n",
       "    max-height: 300px;\n",
       "    overflow: auto;\n",
       "  }\n",
       "  table, th, td {\n",
       "    border: 1px solid black;\n",
       "    border-collapse: collapse;\n",
       "  }\n",
       "  th, td {\n",
       "    padding: 5px;\n",
       "  }\n",
       "  th {\n",
       "    text-align: left;\n",
       "  }\n",
       "</style><div class='table-result-container'><table class='table-result'><thead style='background-color: white'><tr><th>hotel_name</th><th>cancellation_rate</th></tr></thead><tbody><tr><td>Hotel_5</td><td>87.50000000000000</td></tr><tr><td>Hotel_1</td><td>66.66666666666667</td></tr><tr><td>Hotel_8</td><td>66.66666666666667</td></tr><tr><td>Hotel_10</td><td>57.14285714285714</td></tr><tr><td>Hotel_4</td><td>53.84615384615385</td></tr><tr><td>Hotel_3</td><td>50.00000000000000</td></tr><tr><td>Hotel_9</td><td>27.27272727272727</td></tr><tr><td>Hotel_6</td><td>25.00000000000000</td></tr><tr><td>Hotel_2</td><td>22.22222222222222</td></tr><tr><td>Hotel_7</td><td>0E-14</td></tr></tbody></table></div>"
      ]
     },
     "metadata": {
      "application/vnd.databricks.v1+output": {
       "addedWidgets": {},
       "aggData": [],
       "aggError": "",
       "aggOverflow": false,
       "aggSchema": [],
       "aggSeriesLimitReached": false,
       "aggType": "",
       "arguments": {},
       "columnCustomDisplayInfos": {},
       "data": [
        [
         "Hotel_5",
         "87.50000000000000"
        ],
        [
         "Hotel_1",
         "66.66666666666667"
        ],
        [
         "Hotel_8",
         "66.66666666666667"
        ],
        [
         "Hotel_10",
         "57.14285714285714"
        ],
        [
         "Hotel_4",
         "53.84615384615385"
        ],
        [
         "Hotel_3",
         "50.00000000000000"
        ],
        [
         "Hotel_9",
         "27.27272727272727"
        ],
        [
         "Hotel_6",
         "25.00000000000000"
        ],
        [
         "Hotel_2",
         "22.22222222222222"
        ],
        [
         "Hotel_7",
         "0E-14"
        ]
       ],
       "datasetInfos": [],
       "dbfsResultPath": null,
       "isJsonSchema": true,
       "metadata": {},
       "overflow": false,
       "plotOptions": {
        "customPlotOptions": {},
        "displayType": "table",
        "pivotAggregation": null,
        "pivotColumns": null,
        "xColumns": null,
        "yColumns": null
       },
       "removedWidgets": [],
       "schema": [
        {
         "metadata": "{}",
         "name": "hotel_name",
         "type": "\"string\""
        },
        {
         "metadata": "{}",
         "name": "cancellation_rate",
         "type": "\"decimal(38,14)\""
        }
       ],
       "type": "table"
      }
     },
     "output_type": "display_data"
    },
    {
     "output_type": "display_data",
     "data": {
      "text/plain": [
       "Databricks visualization. Run in Databricks to view."
      ]
     },
     "metadata": {
      "application/vnd.databricks.v1.subcommand+json": {
       "baseErrorDetails": null,
       "bindings": {},
       "collapsed": false,
       "command": "%python\n__backend_agg_display_orig = display\n__backend_agg_dfs = []\ndef __backend_agg_display_new(df):\n    __backend_agg_df_modules = [\"pandas.core.frame\", \"databricks.koalas.frame\", \"pyspark.sql.dataframe\", \"pyspark.pandas.frame\", \"pyspark.sql.connect.dataframe\"]\n    if (type(df).__module__ in __backend_agg_df_modules and type(df).__name__ == 'DataFrame') or isinstance(df, list):\n        __backend_agg_dfs.append(df)\n\ndisplay = __backend_agg_display_new\n\ndef __backend_agg_user_code_fn():\n    import base64\n    exec(base64.standard_b64decode(\"ZGlzcGxheShjYW5jZWxsYXRpb25fcmF0ZXNfZGYp\").decode())\n\ntry:\n    # run user code\n    __backend_agg_user_code_fn()\n\n    #reset display function\n    display = __backend_agg_display_orig\n\n    if len(__backend_agg_dfs) > 0:\n        # create a temp view\n        if type(__backend_agg_dfs[0]).__module__ == \"databricks.koalas.frame\":\n            # koalas dataframe\n            __backend_agg_dfs[0].to_spark().createOrReplaceTempView(\"DatabricksView0501a25\")\n        elif type(__backend_agg_dfs[0]).__module__ == \"pandas.core.frame\" or isinstance(__backend_agg_dfs[0], list):\n            # pandas dataframe\n            spark.createDataFrame(__backend_agg_dfs[0]).createOrReplaceTempView(\"DatabricksView0501a25\")\n        else:\n            __backend_agg_dfs[0].createOrReplaceTempView(\"DatabricksView0501a25\")\n        #run backend agg\n        display(spark.sql(\"\"\"WITH q AS (select * from DatabricksView0501a25) SELECT `hotel_name`,SUM(`cancellation_rate`) `column_1ca6ae4f166` FROM q GROUP BY `hotel_name`\"\"\"))\n    else:\n        displayHTML(\"dataframe no longer exists. If you're using dataframe.display(), use display(dataframe) instead.\")\n\n\nfinally:\n    spark.sql(\"drop view if exists DatabricksView0501a25\")\n    display = __backend_agg_display_orig\n    del __backend_agg_display_new\n    del __backend_agg_display_orig\n    del __backend_agg_dfs\n    del __backend_agg_user_code_fn\n\n",
       "commandTitle": "Visualization 1",
       "commandType": "auto",
       "commandVersion": 0,
       "commentThread": [],
       "commentsVisible": false,
       "contentSha256Hex": null,
       "customPlotOptions": {
        "redashChart": [
         {
          "key": "type",
          "value": "CHART"
         },
         {
          "key": "options",
          "value": {
           "alignYAxesAtZero": true,
           "coefficient": 1,
           "columnConfigurationMap": {
            "x": {
             "column": "hotel_name",
             "id": "column_1ca6ae4f165"
            },
            "y": [
             {
              "column": "cancellation_rate",
              "id": "column_1ca6ae4f166",
              "transform": "SUM"
             }
            ]
           },
           "dateTimeFormat": "DD/MM/YYYY HH:mm",
           "direction": {
            "type": "counterclockwise"
           },
           "error_y": {
            "type": "data",
            "visible": true
           },
           "globalSeriesType": "column",
           "legend": {
            "traceorder": "normal"
           },
           "missingValuesAsZero": true,
           "numberFormat": "0,0.[00000]",
           "percentFormat": "0[.]00%",
           "series": {
            "error_y": {
             "type": "data",
             "visible": true
            },
            "stacking": null
           },
           "seriesOptions": {
            "column_1ca6ae4f166": {
             "name": "cancellation_rate",
             "type": "column",
             "yAxis": 0
            }
           },
           "showDataLabels": false,
           "sizemode": "diameter",
           "sortX": true,
           "sortY": true,
           "swappedAxes": false,
           "textFormat": "",
           "useAggregationsUi": true,
           "valuesOptions": {},
           "version": 2,
           "xAxis": {
            "labels": {
             "enabled": true
            },
            "type": "-"
           },
           "yAxis": [
            {
             "type": "-"
            },
            {
             "opposite": true,
             "type": "-"
            }
           ]
          }
         }
        ]
       },
       "datasetPreviewNameToCmdIdMap": {},
       "diffDeletes": [],
       "diffInserts": [],
       "displayType": "redashChart",
       "error": null,
       "errorDetails": null,
       "errorSummary": null,
       "errorTraceType": null,
       "finishTime": 0,
       "globalVars": {},
       "guid": "",
       "height": "auto",
       "hideCommandCode": false,
       "hideCommandResult": false,
       "iPythonMetadata": null,
       "inputWidgets": {},
       "isLockedInExamMode": false,
       "latestUser": "a user",
       "latestUserId": null,
       "listResultMetadata": null,
       "metadata": {},
       "nuid": "2d8c7d4f-4b7a-4f99-8115-c7eca8ca217a",
       "origId": 0,
       "parentHierarchy": [],
       "pivotAggregation": null,
       "pivotColumns": null,
       "position": 9.0,
       "resultDbfsErrorMessage": null,
       "resultDbfsStatus": "INLINED_IN_TREE",
       "results": null,
       "showCommandTitle": false,
       "startTime": 0,
       "state": "input",
       "streamStates": {},
       "subcommandOptions": {
        "queryPlan": {
         "groups": [
          {
           "column": "hotel_name",
           "type": "column"
          }
         ],
         "selects": [
          {
           "column": "hotel_name",
           "type": "column"
          },
          {
           "alias": "column_1ca6ae4f166",
           "args": [
            {
             "column": "cancellation_rate",
             "type": "column"
            }
           ],
           "function": "SUM",
           "type": "function"
          }
         ]
        }
       },
       "submitTime": 0,
       "subtype": "tableResultSubCmd.visualization",
       "tableResultIndex": 0,
       "tableResultSettingsMap": {},
       "useConsistentColors": false,
       "version": "CommandV1",
       "width": "auto",
       "workflows": [],
       "xColumns": null,
       "yColumns": null
      }
     },
     "output_type": "display_data"
    }
   ],
   "source": [
    "display(cancellation_rates_df)"
   ]
  },
  {
   "cell_type": "code",
   "execution_count": 0,
   "metadata": {
    "application/vnd.databricks.v1+cell": {
     "cellMetadata": {
      "byteLimit": 2048000,
      "rowLimit": 10000
     },
     "inputWidgets": {},
     "nuid": "cb047b3f-42d3-40b1-a3c1-7e15fa28fe12",
     "showTitle": false,
     "tableResultSettingsMap": {},
     "title": ""
    }
   },
   "outputs": [
    {
     "output_type": "display_data",
     "data": {
      "text/html": [
       "<style scoped>\n",
       "  .table-result-container {\n",
       "    max-height: 300px;\n",
       "    overflow: auto;\n",
       "  }\n",
       "  table, th, td {\n",
       "    border: 1px solid black;\n",
       "    border-collapse: collapse;\n",
       "  }\n",
       "  th, td {\n",
       "    padding: 5px;\n",
       "  }\n",
       "  th {\n",
       "    text-align: left;\n",
       "  }\n",
       "</style><div class='table-result-container'><table class='table-result'><thead style='background-color: white'><tr><th>location</th><th>booking_month</th><th>monthly_revenue</th></tr></thead><tbody><tr><td>Bangalore</td><td>2</td><td>17486</td></tr><tr><td>Bangalore</td><td>4</td><td>33299</td></tr><tr><td>Bangalore</td><td>5</td><td>2876</td></tr><tr><td>Bangalore</td><td>7</td><td>23772</td></tr><tr><td>Bangalore</td><td>8</td><td>30630</td></tr><tr><td>Bangalore</td><td>10</td><td>11625</td></tr><tr><td>Bangalore</td><td>12</td><td>7374</td></tr><tr><td>Chennai</td><td>2</td><td>7138</td></tr><tr><td>Chennai</td><td>4</td><td>78153</td></tr><tr><td>Chennai</td><td>5</td><td>3973</td></tr><tr><td>Chennai</td><td>6</td><td>75742</td></tr><tr><td>Chennai</td><td>7</td><td>52409</td></tr><tr><td>Chennai</td><td>11</td><td>22302</td></tr><tr><td>Delhi</td><td>1</td><td>35168</td></tr><tr><td>Delhi</td><td>4</td><td>29146</td></tr><tr><td>Delhi</td><td>5</td><td>9718</td></tr><tr><td>Delhi</td><td>9</td><td>44158</td></tr><tr><td>Delhi</td><td>11</td><td>6597</td></tr><tr><td>Delhi</td><td>12</td><td>71334</td></tr><tr><td>Hyderabad</td><td>1</td><td>66920</td></tr><tr><td>Hyderabad</td><td>2</td><td>38374</td></tr><tr><td>Hyderabad</td><td>5</td><td>7656</td></tr><tr><td>Hyderabad</td><td>9</td><td>21210</td></tr><tr><td>Hyderabad</td><td>10</td><td>9040</td></tr><tr><td>Hyderabad</td><td>11</td><td>18006</td></tr><tr><td>Mumbai</td><td>1</td><td>61190</td></tr><tr><td>Mumbai</td><td>3</td><td>7680</td></tr><tr><td>Mumbai</td><td>4</td><td>17367</td></tr><tr><td>Mumbai</td><td>8</td><td>55804</td></tr><tr><td>Mumbai</td><td>10</td><td>6159</td></tr></tbody></table></div>"
      ]
     },
     "metadata": {
      "application/vnd.databricks.v1+output": {
       "addedWidgets": {},
       "aggData": [],
       "aggError": "",
       "aggOverflow": false,
       "aggSchema": [],
       "aggSeriesLimitReached": false,
       "aggType": "",
       "arguments": {},
       "columnCustomDisplayInfos": {},
       "data": [
        [
         "Bangalore",
         2,
         17486
        ],
        [
         "Bangalore",
         4,
         33299
        ],
        [
         "Bangalore",
         5,
         2876
        ],
        [
         "Bangalore",
         7,
         23772
        ],
        [
         "Bangalore",
         8,
         30630
        ],
        [
         "Bangalore",
         10,
         11625
        ],
        [
         "Bangalore",
         12,
         7374
        ],
        [
         "Chennai",
         2,
         7138
        ],
        [
         "Chennai",
         4,
         78153
        ],
        [
         "Chennai",
         5,
         3973
        ],
        [
         "Chennai",
         6,
         75742
        ],
        [
         "Chennai",
         7,
         52409
        ],
        [
         "Chennai",
         11,
         22302
        ],
        [
         "Delhi",
         1,
         35168
        ],
        [
         "Delhi",
         4,
         29146
        ],
        [
         "Delhi",
         5,
         9718
        ],
        [
         "Delhi",
         9,
         44158
        ],
        [
         "Delhi",
         11,
         6597
        ],
        [
         "Delhi",
         12,
         71334
        ],
        [
         "Hyderabad",
         1,
         66920
        ],
        [
         "Hyderabad",
         2,
         38374
        ],
        [
         "Hyderabad",
         5,
         7656
        ],
        [
         "Hyderabad",
         9,
         21210
        ],
        [
         "Hyderabad",
         10,
         9040
        ],
        [
         "Hyderabad",
         11,
         18006
        ],
        [
         "Mumbai",
         1,
         61190
        ],
        [
         "Mumbai",
         3,
         7680
        ],
        [
         "Mumbai",
         4,
         17367
        ],
        [
         "Mumbai",
         8,
         55804
        ],
        [
         "Mumbai",
         10,
         6159
        ]
       ],
       "datasetInfos": [],
       "dbfsResultPath": null,
       "isJsonSchema": true,
       "metadata": {},
       "overflow": false,
       "plotOptions": {
        "customPlotOptions": {},
        "displayType": "table",
        "pivotAggregation": null,
        "pivotColumns": null,
        "xColumns": null,
        "yColumns": null
       },
       "removedWidgets": [],
       "schema": [
        {
         "metadata": "{}",
         "name": "location",
         "type": "\"string\""
        },
        {
         "metadata": "{}",
         "name": "booking_month",
         "type": "\"integer\""
        },
        {
         "metadata": "{}",
         "name": "monthly_revenue",
         "type": "\"long\""
        }
       ],
       "type": "table"
      }
     },
     "output_type": "display_data"
    },
    {
     "output_type": "display_data",
     "data": {
      "text/plain": [
       "Databricks visualization. Run in Databricks to view."
      ]
     },
     "metadata": {
      "application/vnd.databricks.v1.subcommand+json": {
       "baseErrorDetails": null,
       "bindings": {},
       "collapsed": false,
       "command": "%python\n__backend_agg_display_orig = display\n__backend_agg_dfs = []\ndef __backend_agg_display_new(df):\n    __backend_agg_df_modules = [\"pandas.core.frame\", \"databricks.koalas.frame\", \"pyspark.sql.dataframe\", \"pyspark.pandas.frame\", \"pyspark.sql.connect.dataframe\"]\n    if (type(df).__module__ in __backend_agg_df_modules and type(df).__name__ == 'DataFrame') or isinstance(df, list):\n        __backend_agg_dfs.append(df)\n\ndisplay = __backend_agg_display_new\n\ndef __backend_agg_user_code_fn():\n    import base64\n    exec(base64.standard_b64decode(\"ZGlzcGxheShzZWFzb25hbF90cmVuZHNfZGYp\").decode())\n\ntry:\n    # run user code\n    __backend_agg_user_code_fn()\n\n    #reset display function\n    display = __backend_agg_display_orig\n\n    if len(__backend_agg_dfs) > 0:\n        # create a temp view\n        if type(__backend_agg_dfs[0]).__module__ == \"databricks.koalas.frame\":\n            # koalas dataframe\n            __backend_agg_dfs[0].to_spark().createOrReplaceTempView(\"DatabricksView910f0d8\")\n        elif type(__backend_agg_dfs[0]).__module__ == \"pandas.core.frame\" or isinstance(__backend_agg_dfs[0], list):\n            # pandas dataframe\n            spark.createDataFrame(__backend_agg_dfs[0]).createOrReplaceTempView(\"DatabricksView910f0d8\")\n        else:\n            __backend_agg_dfs[0].createOrReplaceTempView(\"DatabricksView910f0d8\")\n        #run backend agg\n        display(spark.sql(\"\"\"WITH q AS (select * from DatabricksView910f0d8) SELECT `booking_month`,SUM(`monthly_revenue`) `column_1ca6ae4f173`,`location` FROM q GROUP BY `booking_month`,`location`\"\"\"))\n    else:\n        displayHTML(\"dataframe no longer exists. If you're using dataframe.display(), use display(dataframe) instead.\")\n\n\nfinally:\n    spark.sql(\"drop view if exists DatabricksView910f0d8\")\n    display = __backend_agg_display_orig\n    del __backend_agg_display_new\n    del __backend_agg_display_orig\n    del __backend_agg_dfs\n    del __backend_agg_user_code_fn\n\n",
       "commandTitle": "Visualization 1",
       "commandType": "auto",
       "commandVersion": 0,
       "commentThread": [],
       "commentsVisible": false,
       "contentSha256Hex": null,
       "customPlotOptions": {
        "redashChart": [
         {
          "key": "type",
          "value": "CHART"
         },
         {
          "key": "options",
          "value": {
           "alignYAxesAtZero": true,
           "coefficient": 1,
           "columnConfigurationMap": {
            "series": {
             "column": "location",
             "id": "column_1ca6ae4f174"
            },
            "x": {
             "column": "booking_month",
             "id": "column_1ca6ae4f172"
            },
            "y": [
             {
              "column": "monthly_revenue",
              "id": "column_1ca6ae4f173",
              "transform": "SUM"
             }
            ]
           },
           "dateTimeFormat": "DD/MM/YYYY HH:mm",
           "direction": {
            "type": "counterclockwise"
           },
           "error_y": {
            "type": "data",
            "visible": true
           },
           "globalSeriesType": "column",
           "isAggregationOn": true,
           "legend": {
            "traceorder": "normal"
           },
           "missingValuesAsZero": true,
           "numberFormat": "0,0.[00000]",
           "percentFormat": "0[.]00%",
           "series": {
            "error_y": {
             "type": "data",
             "visible": true
            },
            "stacking": null
           },
           "seriesOptions": {
            "column_1ca6ae4f173": {
             "name": "monthly_revenue",
             "type": "column",
             "yAxis": 0
            }
           },
           "showDataLabels": false,
           "sizemode": "diameter",
           "sortX": true,
           "sortY": true,
           "swappedAxes": false,
           "textFormat": "",
           "useAggregationsUi": true,
           "valuesOptions": {},
           "version": 2,
           "xAxis": {
            "labels": {
             "enabled": true
            },
            "type": "-"
           },
           "yAxis": [
            {
             "type": "-"
            },
            {
             "opposite": true,
             "type": "-"
            }
           ]
          }
         }
        ]
       },
       "datasetPreviewNameToCmdIdMap": {},
       "diffDeletes": [],
       "diffInserts": [],
       "displayType": "redashChart",
       "error": null,
       "errorDetails": null,
       "errorSummary": null,
       "errorTraceType": null,
       "finishTime": 0,
       "globalVars": {},
       "guid": "",
       "height": "auto",
       "hideCommandCode": false,
       "hideCommandResult": false,
       "iPythonMetadata": null,
       "inputWidgets": {},
       "isLockedInExamMode": false,
       "latestUser": "a user",
       "latestUserId": null,
       "listResultMetadata": null,
       "metadata": {},
       "nuid": "a7f1e822-9559-4f51-a810-12f302c3ede1",
       "origId": 0,
       "parentHierarchy": [],
       "pivotAggregation": null,
       "pivotColumns": null,
       "position": 10.0,
       "resultDbfsErrorMessage": null,
       "resultDbfsStatus": "INLINED_IN_TREE",
       "results": null,
       "showCommandTitle": false,
       "startTime": 0,
       "state": "input",
       "streamStates": {},
       "subcommandOptions": {
        "queryPlan": {
         "groups": [
          {
           "column": "booking_month",
           "type": "column"
          },
          {
           "column": "location",
           "type": "column"
          }
         ],
         "selects": [
          {
           "column": "booking_month",
           "type": "column"
          },
          {
           "alias": "column_1ca6ae4f173",
           "args": [
            {
             "column": "monthly_revenue",
             "type": "column"
            }
           ],
           "function": "SUM",
           "type": "function"
          },
          {
           "column": "location",
           "type": "column"
          }
         ]
        }
       },
       "submitTime": 0,
       "subtype": "tableResultSubCmd.visualization",
       "tableResultIndex": 0,
       "tableResultSettingsMap": {},
       "useConsistentColors": false,
       "version": "CommandV1",
       "width": "auto",
       "workflows": [],
       "xColumns": null,
       "yColumns": null
      }
     },
     "output_type": "display_data"
    }
   ],
   "source": [
    "display(seasonal_trends_df)"
   ]
  },
  {
   "cell_type": "code",
   "execution_count": 0,
   "metadata": {
    "application/vnd.databricks.v1+cell": {
     "cellMetadata": {
      "byteLimit": 2048000,
      "rowLimit": 10000
     },
     "inputWidgets": {},
     "nuid": "c54a4173-6b2f-4344-acb6-5e1630657eeb",
     "showTitle": false,
     "tableResultSettingsMap": {},
     "title": ""
    }
   },
   "outputs": [
    {
     "output_type": "stream",
     "name": "stdout",
     "output_type": "stream",
     "text": [
      "--> Data for Visual 1: Total Revenue\n"
     ]
    },
    {
     "output_type": "display_data",
     "data": {
      "text/html": [
       "<style scoped>\n",
       "  .table-result-container {\n",
       "    max-height: 300px;\n",
       "    overflow: auto;\n",
       "  }\n",
       "  table, th, td {\n",
       "    border: 1px solid black;\n",
       "    border-collapse: collapse;\n",
       "  }\n",
       "  th, td {\n",
       "    padding: 5px;\n",
       "  }\n",
       "  th {\n",
       "    text-align: left;\n",
       "  }\n",
       "</style><div class='table-result-container'><table class='table-result'><thead style='background-color: white'><tr><th>hotel_name</th><th>total_revenue</th></tr></thead><tbody><tr><td>Hotel_3</td><td>173948</td></tr><tr><td>Hotel_9</td><td>155957</td></tr><tr><td>Hotel_2</td><td>128299</td></tr><tr><td>Hotel_7</td><td>90806</td></tr><tr><td>Hotel_4</td><td>78407</td></tr><tr><td>Hotel_8</td><td>74634</td></tr><tr><td>Hotel_6</td><td>57447</td></tr><tr><td>Hotel_10</td><td>43053</td></tr><tr><td>Hotel_1</td><td>36456</td></tr><tr><td>Hotel_5</td><td>33299</td></tr></tbody></table></div>"
      ]
     },
     "metadata": {
      "application/vnd.databricks.v1+output": {
       "addedWidgets": {},
       "aggData": [],
       "aggError": "",
       "aggOverflow": false,
       "aggSchema": [],
       "aggSeriesLimitReached": false,
       "aggType": "",
       "arguments": {},
       "columnCustomDisplayInfos": {},
       "data": [
        [
         "Hotel_3",
         173948
        ],
        [
         "Hotel_9",
         155957
        ],
        [
         "Hotel_2",
         128299
        ],
        [
         "Hotel_7",
         90806
        ],
        [
         "Hotel_4",
         78407
        ],
        [
         "Hotel_8",
         74634
        ],
        [
         "Hotel_6",
         57447
        ],
        [
         "Hotel_10",
         43053
        ],
        [
         "Hotel_1",
         36456
        ],
        [
         "Hotel_5",
         33299
        ]
       ],
       "datasetInfos": [],
       "dbfsResultPath": null,
       "isJsonSchema": true,
       "metadata": {},
       "overflow": false,
       "plotOptions": {
        "customPlotOptions": {},
        "displayType": "table",
        "pivotAggregation": null,
        "pivotColumns": null,
        "xColumns": null,
        "yColumns": null
       },
       "removedWidgets": [],
       "schema": [
        {
         "metadata": "{}",
         "name": "hotel_name",
         "type": "\"string\""
        },
        {
         "metadata": "{}",
         "name": "total_revenue",
         "type": "\"long\""
        }
       ],
       "type": "table"
      }
     },
     "output_type": "display_data"
    },
    {
     "output_type": "stream",
     "name": "stdout",
     "output_type": "stream",
     "text": [
      "--> Data for Visual 2: Cancellation Rates\n"
     ]
    },
    {
     "output_type": "display_data",
     "data": {
      "text/html": [
       "<style scoped>\n",
       "  .table-result-container {\n",
       "    max-height: 300px;\n",
       "    overflow: auto;\n",
       "  }\n",
       "  table, th, td {\n",
       "    border: 1px solid black;\n",
       "    border-collapse: collapse;\n",
       "  }\n",
       "  th, td {\n",
       "    padding: 5px;\n",
       "  }\n",
       "  th {\n",
       "    text-align: left;\n",
       "  }\n",
       "</style><div class='table-result-container'><table class='table-result'><thead style='background-color: white'><tr><th>hotel_name</th><th>total_bookings</th><th>cancelled_bookings</th><th>cancellation_rate</th></tr></thead><tbody><tr><td>Hotel_5</td><td>8</td><td>7</td><td>87.5</td></tr><tr><td>Hotel_1</td><td>6</td><td>4</td><td>66.66666666666667</td></tr><tr><td>Hotel_8</td><td>9</td><td>6</td><td>66.66666666666667</td></tr><tr><td>Hotel_10</td><td>7</td><td>4</td><td>57.142857142857146</td></tr><tr><td>Hotel_4</td><td>13</td><td>7</td><td>53.84615384615385</td></tr><tr><td>Hotel_3</td><td>10</td><td>5</td><td>50.0</td></tr><tr><td>Hotel_9</td><td>11</td><td>3</td><td>27.272727272727273</td></tr><tr><td>Hotel_6</td><td>4</td><td>1</td><td>25.0</td></tr><tr><td>Hotel_2</td><td>9</td><td>2</td><td>22.22222222222222</td></tr><tr><td>Hotel_7</td><td>3</td><td>0</td><td>0.0</td></tr></tbody></table></div>"
      ]
     },
     "metadata": {
      "application/vnd.databricks.v1+output": {
       "addedWidgets": {},
       "aggData": [],
       "aggError": "",
       "aggOverflow": false,
       "aggSchema": [],
       "aggSeriesLimitReached": false,
       "aggType": "",
       "arguments": {},
       "columnCustomDisplayInfos": {},
       "data": [
        [
         "Hotel_5",
         8,
         7,
         87.5
        ],
        [
         "Hotel_1",
         6,
         4,
         66.66666666666667
        ],
        [
         "Hotel_8",
         9,
         6,
         66.66666666666667
        ],
        [
         "Hotel_10",
         7,
         4,
         57.142857142857146
        ],
        [
         "Hotel_4",
         13,
         7,
         53.84615384615385
        ],
        [
         "Hotel_3",
         10,
         5,
         50.0
        ],
        [
         "Hotel_9",
         11,
         3,
         27.272727272727273
        ],
        [
         "Hotel_6",
         4,
         1,
         25.0
        ],
        [
         "Hotel_2",
         9,
         2,
         22.22222222222222
        ],
        [
         "Hotel_7",
         3,
         0,
         0.0
        ]
       ],
       "datasetInfos": [],
       "dbfsResultPath": null,
       "isJsonSchema": true,
       "metadata": {},
       "overflow": false,
       "plotOptions": {
        "customPlotOptions": {},
        "displayType": "table",
        "pivotAggregation": null,
        "pivotColumns": null,
        "xColumns": null,
        "yColumns": null
       },
       "removedWidgets": [],
       "schema": [
        {
         "metadata": "{}",
         "name": "hotel_name",
         "type": "\"string\""
        },
        {
         "metadata": "{}",
         "name": "total_bookings",
         "type": "\"long\""
        },
        {
         "metadata": "{}",
         "name": "cancelled_bookings",
         "type": "\"long\""
        },
        {
         "metadata": "{}",
         "name": "cancellation_rate",
         "type": "\"double\""
        }
       ],
       "type": "table"
      }
     },
     "output_type": "display_data"
    },
    {
     "output_type": "stream",
     "name": "stdout",
     "output_type": "stream",
     "text": [
      "--> Data for Visual 3: Seasonal Trends\n"
     ]
    },
    {
     "output_type": "display_data",
     "data": {
      "text/html": [
       "<style scoped>\n",
       "  .table-result-container {\n",
       "    max-height: 300px;\n",
       "    overflow: auto;\n",
       "  }\n",
       "  table, th, td {\n",
       "    border: 1px solid black;\n",
       "    border-collapse: collapse;\n",
       "  }\n",
       "  th, td {\n",
       "    padding: 5px;\n",
       "  }\n",
       "  th {\n",
       "    text-align: left;\n",
       "  }\n",
       "</style><div class='table-result-container'><table class='table-result'><thead style='background-color: white'><tr><th>location</th><th>booking_month</th><th>monthly_revenue</th></tr></thead><tbody><tr><td>Bangalore</td><td>2</td><td>17486</td></tr><tr><td>Bangalore</td><td>4</td><td>33299</td></tr><tr><td>Bangalore</td><td>5</td><td>2876</td></tr><tr><td>Bangalore</td><td>7</td><td>23772</td></tr><tr><td>Bangalore</td><td>8</td><td>30630</td></tr><tr><td>Bangalore</td><td>10</td><td>11625</td></tr><tr><td>Bangalore</td><td>12</td><td>7374</td></tr><tr><td>Chennai</td><td>2</td><td>7138</td></tr><tr><td>Chennai</td><td>4</td><td>78153</td></tr><tr><td>Chennai</td><td>5</td><td>3973</td></tr><tr><td>Chennai</td><td>6</td><td>75742</td></tr><tr><td>Chennai</td><td>7</td><td>52409</td></tr><tr><td>Chennai</td><td>11</td><td>22302</td></tr><tr><td>Delhi</td><td>1</td><td>35168</td></tr><tr><td>Delhi</td><td>4</td><td>29146</td></tr><tr><td>Delhi</td><td>5</td><td>9718</td></tr><tr><td>Delhi</td><td>9</td><td>44158</td></tr><tr><td>Delhi</td><td>11</td><td>6597</td></tr><tr><td>Delhi</td><td>12</td><td>71334</td></tr><tr><td>Hyderabad</td><td>1</td><td>66920</td></tr><tr><td>Hyderabad</td><td>2</td><td>38374</td></tr><tr><td>Hyderabad</td><td>5</td><td>7656</td></tr><tr><td>Hyderabad</td><td>9</td><td>21210</td></tr><tr><td>Hyderabad</td><td>10</td><td>9040</td></tr><tr><td>Hyderabad</td><td>11</td><td>18006</td></tr><tr><td>Mumbai</td><td>1</td><td>61190</td></tr><tr><td>Mumbai</td><td>3</td><td>7680</td></tr><tr><td>Mumbai</td><td>4</td><td>17367</td></tr><tr><td>Mumbai</td><td>8</td><td>55804</td></tr><tr><td>Mumbai</td><td>10</td><td>6159</td></tr></tbody></table></div>"
      ]
     },
     "metadata": {
      "application/vnd.databricks.v1+output": {
       "addedWidgets": {},
       "aggData": [],
       "aggError": "",
       "aggOverflow": false,
       "aggSchema": [],
       "aggSeriesLimitReached": false,
       "aggType": "",
       "arguments": {},
       "columnCustomDisplayInfos": {},
       "data": [
        [
         "Bangalore",
         2,
         17486
        ],
        [
         "Bangalore",
         4,
         33299
        ],
        [
         "Bangalore",
         5,
         2876
        ],
        [
         "Bangalore",
         7,
         23772
        ],
        [
         "Bangalore",
         8,
         30630
        ],
        [
         "Bangalore",
         10,
         11625
        ],
        [
         "Bangalore",
         12,
         7374
        ],
        [
         "Chennai",
         2,
         7138
        ],
        [
         "Chennai",
         4,
         78153
        ],
        [
         "Chennai",
         5,
         3973
        ],
        [
         "Chennai",
         6,
         75742
        ],
        [
         "Chennai",
         7,
         52409
        ],
        [
         "Chennai",
         11,
         22302
        ],
        [
         "Delhi",
         1,
         35168
        ],
        [
         "Delhi",
         4,
         29146
        ],
        [
         "Delhi",
         5,
         9718
        ],
        [
         "Delhi",
         9,
         44158
        ],
        [
         "Delhi",
         11,
         6597
        ],
        [
         "Delhi",
         12,
         71334
        ],
        [
         "Hyderabad",
         1,
         66920
        ],
        [
         "Hyderabad",
         2,
         38374
        ],
        [
         "Hyderabad",
         5,
         7656
        ],
        [
         "Hyderabad",
         9,
         21210
        ],
        [
         "Hyderabad",
         10,
         9040
        ],
        [
         "Hyderabad",
         11,
         18006
        ],
        [
         "Mumbai",
         1,
         61190
        ],
        [
         "Mumbai",
         3,
         7680
        ],
        [
         "Mumbai",
         4,
         17367
        ],
        [
         "Mumbai",
         8,
         55804
        ],
        [
         "Mumbai",
         10,
         6159
        ]
       ],
       "datasetInfos": [],
       "dbfsResultPath": null,
       "isJsonSchema": true,
       "metadata": {},
       "overflow": false,
       "plotOptions": {
        "customPlotOptions": {},
        "displayType": "table",
        "pivotAggregation": null,
        "pivotColumns": null,
        "xColumns": null,
        "yColumns": null
       },
       "removedWidgets": [],
       "schema": [
        {
         "metadata": "{}",
         "name": "location",
         "type": "\"string\""
        },
        {
         "metadata": "{}",
         "name": "booking_month",
         "type": "\"integer\""
        },
        {
         "metadata": "{}",
         "name": "monthly_revenue",
         "type": "\"long\""
        }
       ],
       "type": "table"
      }
     },
     "output_type": "display_data"
    },
    {
     "output_type": "display_data",
     "data": {
      "text/plain": [
       "Databricks visualization. Run in Databricks to view."
      ]
     },
     "metadata": {
      "application/vnd.databricks.v1.subcommand+json": {
       "baseErrorDetails": null,
       "bindings": {},
       "collapsed": false,
       "command": "%python\n__backend_agg_display_orig = display\n__backend_agg_dfs = []\ndef __backend_agg_display_new(df):\n    __backend_agg_df_modules = [\"pandas.core.frame\", \"databricks.koalas.frame\", \"pyspark.sql.dataframe\", \"pyspark.pandas.frame\", \"pyspark.sql.connect.dataframe\"]\n    if (type(df).__module__ in __backend_agg_df_modules and type(df).__name__ == 'DataFrame') or isinstance(df, list):\n        __backend_agg_dfs.append(df)\n\ndisplay = __backend_agg_display_new\n\ndef __backend_agg_user_code_fn():\n    import base64\n    exec(base64.standard_b64decode(\"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\").decode())\n\ntry:\n    # run user code\n    __backend_agg_user_code_fn()\n\n    #reset display function\n    display = __backend_agg_display_orig\n\n    if len(__backend_agg_dfs) > 2:\n        # create a temp view\n        if type(__backend_agg_dfs[2]).__module__ == \"databricks.koalas.frame\":\n            # koalas dataframe\n            __backend_agg_dfs[2].to_spark().createOrReplaceTempView(\"DatabricksView35f5635\")\n        elif type(__backend_agg_dfs[2]).__module__ == \"pandas.core.frame\" or isinstance(__backend_agg_dfs[2], list):\n            # pandas dataframe\n            spark.createDataFrame(__backend_agg_dfs[2]).createOrReplaceTempView(\"DatabricksView35f5635\")\n        else:\n            __backend_agg_dfs[2].createOrReplaceTempView(\"DatabricksView35f5635\")\n        #run backend agg\n        display(spark.sql(\"\"\"WITH q AS (select * from DatabricksView35f5635) SELECT `booking_month`,SUM(`monthly_revenue`) `column_1ca6ae4f149`,`location` FROM q GROUP BY `booking_month`,`location`\"\"\"))\n    else:\n        displayHTML(\"dataframe no longer exists. If you're using dataframe.display(), use display(dataframe) instead.\")\n\n\nfinally:\n    spark.sql(\"drop view if exists DatabricksView35f5635\")\n    display = __backend_agg_display_orig\n    del __backend_agg_display_new\n    del __backend_agg_display_orig\n    del __backend_agg_dfs\n    del __backend_agg_user_code_fn\n\n",
       "commandTitle": "Visualization 1",
       "commandType": "auto",
       "commandVersion": 0,
       "commentThread": [],
       "commentsVisible": false,
       "contentSha256Hex": null,
       "customPlotOptions": {
        "redashChart": [
         {
          "key": "type",
          "value": "CHART"
         },
         {
          "key": "options",
          "value": {
           "alignYAxesAtZero": true,
           "coefficient": 1,
           "columnConfigurationMap": {
            "series": {
             "column": "location",
             "id": "column_1ca6ae4f150"
            },
            "x": {
             "column": "booking_month",
             "id": "column_1ca6ae4f148"
            },
            "y": [
             {
              "column": "monthly_revenue",
              "id": "column_1ca6ae4f149",
              "transform": "SUM"
             }
            ]
           },
           "dateTimeFormat": "DD/MM/YYYY HH:mm",
           "direction": {
            "type": "counterclockwise"
           },
           "error_y": {
            "type": "data",
            "visible": true
           },
           "globalSeriesType": "column",
           "isAggregationOn": true,
           "legend": {
            "traceorder": "normal"
           },
           "missingValuesAsZero": true,
           "numberFormat": "0,0.[00000]",
           "percentFormat": "0[.]00%",
           "series": {
            "error_y": {
             "type": "data",
             "visible": true
            },
            "stacking": null
           },
           "seriesOptions": {
            "column_1ca6ae4f149": {
             "name": "monthly_revenue",
             "type": "column",
             "yAxis": 0
            }
           },
           "showDataLabels": false,
           "sizemode": "diameter",
           "sortX": true,
           "sortY": true,
           "swappedAxes": false,
           "textFormat": "",
           "useAggregationsUi": true,
           "valuesOptions": {},
           "version": 2,
           "xAxis": {
            "labels": {
             "enabled": true
            },
            "type": "-"
           },
           "yAxis": [
            {
             "type": "-"
            },
            {
             "opposite": true,
             "type": "-"
            }
           ]
          }
         }
        ]
       },
       "datasetPreviewNameToCmdIdMap": {},
       "diffDeletes": [],
       "diffInserts": [],
       "displayType": "redashChart",
       "error": null,
       "errorDetails": null,
       "errorSummary": null,
       "errorTraceType": null,
       "finishTime": 0,
       "globalVars": {},
       "guid": "",
       "height": "auto",
       "hideCommandCode": false,
       "hideCommandResult": false,
       "iPythonMetadata": null,
       "inputWidgets": {},
       "isLockedInExamMode": false,
       "latestUser": "a user",
       "latestUserId": null,
       "listResultMetadata": null,
       "metadata": {},
       "nuid": "45644d77-72cb-48cc-9eb9-4bf3879d32c4",
       "origId": 0,
       "parentHierarchy": [],
       "pivotAggregation": null,
       "pivotColumns": null,
       "position": 11.0,
       "resultDbfsErrorMessage": null,
       "resultDbfsStatus": "INLINED_IN_TREE",
       "results": null,
       "showCommandTitle": false,
       "startTime": 0,
       "state": "input",
       "streamStates": {},
       "subcommandOptions": {
        "queryPlan": {
         "groups": [
          {
           "column": "booking_month",
           "type": "column"
          },
          {
           "column": "location",
           "type": "column"
          }
         ],
         "selects": [
          {
           "column": "booking_month",
           "type": "column"
          },
          {
           "alias": "column_1ca6ae4f149",
           "args": [
            {
             "column": "monthly_revenue",
             "type": "column"
            }
           ],
           "function": "SUM",
           "type": "function"
          },
          {
           "column": "location",
           "type": "column"
          }
         ]
        }
       },
       "submitTime": 0,
       "subtype": "tableResultSubCmd.visualization",
       "tableResultIndex": 2,
       "tableResultSettingsMap": {},
       "useConsistentColors": false,
       "version": "CommandV1",
       "width": "auto",
       "workflows": [],
       "xColumns": null,
       "yColumns": null
      }
     },
     "output_type": "display_data"
    }
   ],
   "source": [
    "# ===================================================================\n",
    "# CODE FOR DASHBOARD VISUALS\n",
    "# This block creates all the necessary data tables for your dashboard.\n",
    "# ===================================================================\n",
    "\n",
    "from pyspark.sql.functions import col, sum, avg, desc, when, count, month\n",
    "\n",
    "# --- Visual 1: Total Revenue per Hotel ---\n",
    "total_revenue_per_hotel = df.filter(col(\"status\") == \"Booked\") \\\n",
    "    .groupBy(\"hotel_name\") \\\n",
    "    .agg(sum(\"amount_spent\").alias(\"total_revenue\")) \\\n",
    "    .orderBy(desc(\"total_revenue\"))\n",
    "\n",
    "print(\"--> Data for Visual 1: Total Revenue\")\n",
    "display(total_revenue_per_hotel)\n",
    "\n",
    "\n",
    "# --- Visual 2: Hotel Cancellation Rates ---\n",
    "cancellation_rates_df = df.groupBy(\"hotel_name\") \\\n",
    "    .agg(\n",
    "        count(\"booking_id\").alias(\"total_bookings\"),\n",
    "        sum(when(col(\"status\") == \"Cancelled\", 1).otherwise(0)).alias(\"cancelled_bookings\")\n",
    "    ) \\\n",
    "    .withColumn(\n",
    "        \"cancellation_rate\",\n",
    "        (col(\"cancelled_bookings\") * 100) / col(\"total_bookings\")\n",
    "    ) \\\n",
    "    .orderBy(desc(\"cancellation_rate\"))\n",
    "\n",
    "print(\"--> Data for Visual 2: Cancellation Rates\")\n",
    "display(cancellation_rates_df)\n",
    "\n",
    "\n",
    "# --- Visual 3: Seasonal Trends by Location ---\n",
    "seasonal_trends_df = df.filter(col(\"status\") == \"Booked\") \\\n",
    "    .withColumn(\"booking_month\", month(\"booking_date\")) \\\n",
    "    .groupBy(\"location\", \"booking_month\") \\\n",
    "    .agg(sum(\"amount_spent\").alias(\"monthly_revenue\")) \\\n",
    "    .orderBy(\"location\", \"booking_month\")\n",
    "\n",
    "print(\"--> Data for Visual 3: Seasonal Trends\")\n",
    "display(seasonal_trends_df)"
   ]
  }
 ],
 "metadata": {
  "application/vnd.databricks.v1+notebook": {
   "computePreferences": null,
   "dashboards": [],
   "environmentMetadata": {
    "base_environment": "",
    "environment_version": "3"
   },
   "inputWidgetPreferences": null,
   "language": "python",
   "notebookMetadata": {
    "pythonIndentUnit": 4
   },
   "notebookName": "Travel Booking Analysis",
   "widgets": {}
  },
  "language_info": {
   "name": "python"
  }
 },
 "nbformat": 4,
 "nbformat_minor": 0
}